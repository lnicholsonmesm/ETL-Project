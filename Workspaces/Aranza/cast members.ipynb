{
 "cells": [
  {
   "cell_type": "code",
   "execution_count": 1,
   "metadata": {},
   "outputs": [],
   "source": [
    "import imdb\n",
    "import pandas as pd"
   ]
  },
  {
   "cell_type": "code",
   "execution_count": 2,
   "metadata": {},
   "outputs": [],
   "source": [
    "#call the imdb.IMDb function to get an access object through which IMDb data can be retrieved\n",
    "ia = imdb.IMDb()"
   ]
  },
  {
   "cell_type": "code",
   "execution_count": 3,
   "metadata": {},
   "outputs": [
    {
     "data": {
      "text/plain": [
       "[<Person id:0352835[http] name:_Brahim Hadjadj_>,\n",
       " <Person id:0552483[http] name:_Jean Martin_>,\n",
       " <Person id:0754272[http] name:_Yacef Saadi_>,\n",
       " <Person id:0449197[http] name:_Samia Kerbash_>,\n",
       " <Person id:0657597[http] name:_Ugo Paletti_>,\n",
       " <Person id:0252678[http] name:_Fusia El Kader_>,\n",
       " <Person id:0069934[http] name:_Mohamed Ben Kassen_>,\n",
       " <Person id:0605398[http] name:_Franco Moruzzi_>,\n",
       " <Person id:0626221[http] name:_Tommaso Neri_>,\n",
       " <Person id:0746250[http] name:_Rouïched_>,\n",
       " <Person id:0921881[http] name:_Gene Wesson_>]"
      ]
     },
     "execution_count": 3,
     "metadata": {},
     "output_type": "execute_result"
    }
   ],
   "source": [
    "#We can get the full cast for a movie\n",
    "movie = ia.get_movie(\"0058946\")\n",
    "characters = movie.get('cast')\n",
    "characters"
   ]
  },
  {
   "cell_type": "code",
   "execution_count": 26,
   "metadata": {},
   "outputs": [
    {
     "data": {
      "text/plain": [
       "['Brahim Hadjadj',\n",
       " 'Jean Martin',\n",
       " 'Yacef Saadi',\n",
       " 'Samia Kerbash',\n",
       " 'Ugo Paletti',\n",
       " 'Fusia El Kader',\n",
       " 'Mohamed Ben Kassen',\n",
       " 'Franco Moruzzi',\n",
       " 'Tommaso Neri',\n",
       " 'Rouïched',\n",
       " 'Gene Wesson']"
      ]
     },
     "execution_count": 26,
     "metadata": {},
     "output_type": "execute_result"
    }
   ],
   "source": [
    "names = []\n",
    "for character in characters:\n",
    "    names.append(character[\"name\"])\n",
    "names"
   ]
  },
  {
   "cell_type": "code",
   "execution_count": 35,
   "metadata": {},
   "outputs": [
    {
     "data": {
      "text/plain": [
       "11"
      ]
     },
     "execution_count": 35,
     "metadata": {},
     "output_type": "execute_result"
    }
   ],
   "source": [
    "len(names)"
   ]
  },
  {
   "cell_type": "code",
   "execution_count": 9,
   "metadata": {},
   "outputs": [
    {
     "data": {
      "text/plain": [
       "['0352835',\n",
       " '0552483',\n",
       " '0754272',\n",
       " '0449197',\n",
       " '0657597',\n",
       " '0252678',\n",
       " '0069934',\n",
       " '0605398',\n",
       " '0626221',\n",
       " '0746250',\n",
       " '0921881']"
      ]
     },
     "execution_count": 9,
     "metadata": {},
     "output_type": "execute_result"
    }
   ],
   "source": [
    "ids = []\n",
    "for character in characters:\n",
    "    ids.append(character.getID())\n",
    "ids"
   ]
  },
  {
   "cell_type": "code",
   "execution_count": 34,
   "metadata": {},
   "outputs": [
    {
     "data": {
      "text/plain": [
       "11"
      ]
     },
     "execution_count": 34,
     "metadata": {},
     "output_type": "execute_result"
    }
   ],
   "source": [
    "len(ids)"
   ]
  },
  {
   "cell_type": "code",
   "execution_count": 41,
   "metadata": {},
   "outputs": [
    {
     "data": {
      "text/plain": [
       "['Buamama',\n",
       " 'Dossier: disparus',\n",
       " 'The Battle of Algiers',\n",
       " 'The Battle of Algiers',\n",
       " 'The Battle of Algiers',\n",
       " 'The Battle of Algiers',\n",
       " 'The Battle of Algiers',\n",
       " \"I guerrieri dell'anno 2072\",\n",
       " 'The Battle of Algiers',\n",
       " 'Adhilai al beida',\n",
       " 'The Battle of Algiers']"
      ]
     },
     "execution_count": 41,
     "metadata": {},
     "output_type": "execute_result"
    }
   ],
   "source": [
    "latest_role = []\n",
    "for i in ids:\n",
    "    try:\n",
    "        latest_role.append(ia.get_person(i)[\"filmography\"][0][\"actor\"][0][\"title\"])\n",
    "    except:\n",
    "        latest_role.append(ia.get_person(i)[\"filmography\"][0][\"actress\"][0][\"title\"])\n",
    "latest_role"
   ]
  },
  {
   "cell_type": "code",
   "execution_count": 40,
   "metadata": {},
   "outputs": [
    {
     "data": {
      "text/plain": [
       "11"
      ]
     },
     "execution_count": 40,
     "metadata": {},
     "output_type": "execute_result"
    }
   ],
   "source": [
    "len(latest_role)"
   ]
  },
  {
   "cell_type": "code",
   "execution_count": 23,
   "metadata": {},
   "outputs": [
    {
     "data": {
      "text/plain": [
       "{'actress': [<Movie id:0058946[http] title:_The Battle of Algiers (1966)_>]}"
      ]
     },
     "execution_count": 23,
     "metadata": {},
     "output_type": "execute_result"
    }
   ],
   "source": [
    "ia.get_person(ids[3])[\"filmography\"][0]"
   ]
  },
  {
   "cell_type": "code",
   "execution_count": 42,
   "metadata": {},
   "outputs": [
    {
     "data": {
      "text/html": [
       "<div>\n",
       "<style scoped>\n",
       "    .dataframe tbody tr th:only-of-type {\n",
       "        vertical-align: middle;\n",
       "    }\n",
       "\n",
       "    .dataframe tbody tr th {\n",
       "        vertical-align: top;\n",
       "    }\n",
       "\n",
       "    .dataframe thead th {\n",
       "        text-align: right;\n",
       "    }\n",
       "</style>\n",
       "<table border=\"1\" class=\"dataframe\">\n",
       "  <thead>\n",
       "    <tr style=\"text-align: right;\">\n",
       "      <th></th>\n",
       "      <th>id</th>\n",
       "      <th>names</th>\n",
       "      <th>last role</th>\n",
       "    </tr>\n",
       "  </thead>\n",
       "  <tbody>\n",
       "    <tr>\n",
       "      <th>0</th>\n",
       "      <td>0352835</td>\n",
       "      <td>Brahim Hadjadj</td>\n",
       "      <td>Buamama</td>\n",
       "    </tr>\n",
       "    <tr>\n",
       "      <th>1</th>\n",
       "      <td>0552483</td>\n",
       "      <td>Jean Martin</td>\n",
       "      <td>Dossier: disparus</td>\n",
       "    </tr>\n",
       "    <tr>\n",
       "      <th>2</th>\n",
       "      <td>0754272</td>\n",
       "      <td>Yacef Saadi</td>\n",
       "      <td>The Battle of Algiers</td>\n",
       "    </tr>\n",
       "    <tr>\n",
       "      <th>3</th>\n",
       "      <td>0449197</td>\n",
       "      <td>Samia Kerbash</td>\n",
       "      <td>The Battle of Algiers</td>\n",
       "    </tr>\n",
       "    <tr>\n",
       "      <th>4</th>\n",
       "      <td>0657597</td>\n",
       "      <td>Ugo Paletti</td>\n",
       "      <td>The Battle of Algiers</td>\n",
       "    </tr>\n",
       "    <tr>\n",
       "      <th>5</th>\n",
       "      <td>0252678</td>\n",
       "      <td>Fusia El Kader</td>\n",
       "      <td>The Battle of Algiers</td>\n",
       "    </tr>\n",
       "    <tr>\n",
       "      <th>6</th>\n",
       "      <td>0069934</td>\n",
       "      <td>Mohamed Ben Kassen</td>\n",
       "      <td>The Battle of Algiers</td>\n",
       "    </tr>\n",
       "    <tr>\n",
       "      <th>7</th>\n",
       "      <td>0605398</td>\n",
       "      <td>Franco Moruzzi</td>\n",
       "      <td>I guerrieri dell'anno 2072</td>\n",
       "    </tr>\n",
       "    <tr>\n",
       "      <th>8</th>\n",
       "      <td>0626221</td>\n",
       "      <td>Tommaso Neri</td>\n",
       "      <td>The Battle of Algiers</td>\n",
       "    </tr>\n",
       "    <tr>\n",
       "      <th>9</th>\n",
       "      <td>0746250</td>\n",
       "      <td>Rouïched</td>\n",
       "      <td>Adhilai al beida</td>\n",
       "    </tr>\n",
       "    <tr>\n",
       "      <th>10</th>\n",
       "      <td>0921881</td>\n",
       "      <td>Gene Wesson</td>\n",
       "      <td>The Battle of Algiers</td>\n",
       "    </tr>\n",
       "  </tbody>\n",
       "</table>\n",
       "</div>"
      ],
      "text/plain": [
       "         id               names                   last role\n",
       "0   0352835      Brahim Hadjadj                     Buamama\n",
       "1   0552483         Jean Martin           Dossier: disparus\n",
       "2   0754272         Yacef Saadi       The Battle of Algiers\n",
       "3   0449197       Samia Kerbash       The Battle of Algiers\n",
       "4   0657597         Ugo Paletti       The Battle of Algiers\n",
       "5   0252678      Fusia El Kader       The Battle of Algiers\n",
       "6   0069934  Mohamed Ben Kassen       The Battle of Algiers\n",
       "7   0605398      Franco Moruzzi  I guerrieri dell'anno 2072\n",
       "8   0626221        Tommaso Neri       The Battle of Algiers\n",
       "9   0746250            Rouïched            Adhilai al beida\n",
       "10  0921881         Gene Wesson       The Battle of Algiers"
      ]
     },
     "execution_count": 42,
     "metadata": {},
     "output_type": "execute_result"
    }
   ],
   "source": [
    "actors_df = pd.DataFrame({\"id\": ids, \"name\": names, \"last role\": latest_role})\n",
    "actors_df"
   ]
  },
  {
   "cell_type": "code",
   "execution_count": 44,
   "metadata": {},
   "outputs": [],
   "source": [
    "actors_df.to_csv(\"actor_dummy.csv\",index=False)"
   ]
  },
  {
   "cell_type": "code",
   "execution_count": 4,
   "metadata": {},
   "outputs": [
    {
     "data": {
      "text/plain": [
       "<Person id:0058946[http] name:_Wende Bartley_>"
      ]
     },
     "execution_count": 4,
     "metadata": {},
     "output_type": "execute_result"
    }
   ],
   "source": [
    "ia.get_person(\"0058946\")"
   ]
  },
  {
   "cell_type": "code",
   "execution_count": null,
   "metadata": {},
   "outputs": [],
   "source": []
  }
 ],
 "metadata": {
  "kernelspec": {
   "display_name": "Python 3",
   "language": "python",
   "name": "python3"
  },
  "language_info": {
   "codemirror_mode": {
    "name": "ipython",
    "version": 3
   },
   "file_extension": ".py",
   "mimetype": "text/x-python",
   "name": "python",
   "nbconvert_exporter": "python",
   "pygments_lexer": "ipython3",
   "version": "3.7.6"
  }
 },
 "nbformat": 4,
 "nbformat_minor": 4
}
