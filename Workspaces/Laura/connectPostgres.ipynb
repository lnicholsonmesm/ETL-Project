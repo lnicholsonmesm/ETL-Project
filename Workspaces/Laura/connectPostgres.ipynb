{
 "cells": [
  {
   "cell_type": "markdown",
   "metadata": {},
   "source": [
    "## Import Dependencies"
   ]
  },
  {
   "cell_type": "code",
   "execution_count": 13,
   "metadata": {},
   "outputs": [],
   "source": [
    "import psycopg2\n",
    "from psycopg2.extensions import ISOLATION_LEVEL_AUTOCOMMIT\n",
    "from config import username, password\n"
   ]
  },
  {
   "cell_type": "markdown",
   "metadata": {},
   "source": [
    "## Write SQL Queries\n",
    "### 1: Create Database"
   ]
  },
  {
   "cell_type": "code",
   "execution_count": 8,
   "metadata": {},
   "outputs": [],
   "source": [
    "create_db_query = 'CREATE DATABASE MovieDB'"
   ]
  },
  {
   "cell_type": "markdown",
   "metadata": {},
   "source": [
    "### 2: Create Table Schema"
   ]
  },
  {
   "cell_type": "code",
   "execution_count": 9,
   "metadata": {},
   "outputs": [],
   "source": [
    "create_schema_query = 'CREATE SCHEMA IF NOT EXISTS ETL'"
   ]
  },
  {
   "cell_type": "markdown",
   "metadata": {},
   "source": [
    "### 3. Create Tables"
   ]
  },
  {
   "cell_type": "code",
   "execution_count": 58,
   "metadata": {},
   "outputs": [],
   "source": [
    "ETL_actors = '''DROP TABLE IF EXISTS actors_role;\n",
    "                CREATE TABLE actors_role(id INT PRIMARY KEY\n",
    "                                   ,names VARCHAR\n",
    "                                   ,last_role VARCHAR)'''\n",
    "ETL_movies_info = '''CREATE TABLE movies_info(movie_id INT PRIMARY KEY\n",
    "                                             ,title VARCHAR\n",
    "                                             ,plot  VARCHAR\n",
    "                                             ,IMDb_rating NUMERIC\n",
    "                                             ,main_cast_id INT\n",
    "                                             ,main_cast_name VARCHAR\n",
    "                                             ,other_cast_id INT\n",
    "                                             ,other_cast_name VARCHAR\n",
    "                                             )'''"
   ]
  },
  {
   "cell_type": "markdown",
   "metadata": {},
   "source": [
    "### 4: Create \"View\" that is our \"Data Warehouse\" Table"
   ]
  },
  {
   "cell_type": "code",
   "execution_count": null,
   "metadata": {},
   "outputs": [],
   "source": [
    "#create_DW_view ="
   ]
  },
  {
   "cell_type": "markdown",
   "metadata": {},
   "source": [
    "## Establish the Connection"
   ]
  },
  {
   "cell_type": "code",
   "execution_count": 11,
   "metadata": {},
   "outputs": [],
   "source": [
    "conn = psycopg2.connect(database=\"postgres\", user=username, password=password, host='localhost', port= '5432')\n",
    "conn.autocommit = True    #or we could commit with conn.commit()\n",
    "    #f\"user={username} password={password}\");\n",
    "#con.set_isolation_level(ISOLATION_LEVEL_AUTOCOMMIT);"
   ]
  },
  {
   "cell_type": "markdown",
   "metadata": {},
   "source": [
    "## Create a Cursor Object Because Reasons"
   ]
  },
  {
   "cell_type": "code",
   "execution_count": 6,
   "metadata": {},
   "outputs": [],
   "source": [
    "cursor = conn.cursor()"
   ]
  },
  {
   "cell_type": "markdown",
   "metadata": {},
   "source": [
    "## Create Database"
   ]
  },
  {
   "cell_type": "code",
   "execution_count": 12,
   "metadata": {},
   "outputs": [
    {
     "name": "stdout",
     "output_type": "stream",
     "text": [
      "Database created successfully........\n"
     ]
    }
   ],
   "source": [
    "#Creating a database\n",
    "cursor.execute(create_db_query)\n",
    "print(\"Database created successfully........\")"
   ]
  },
  {
   "cell_type": "markdown",
   "metadata": {},
   "source": [
    "## Create Schema and Tables"
   ]
  },
  {
   "cell_type": "code",
   "execution_count": 59,
   "metadata": {},
   "outputs": [
    {
     "name": "stdout",
     "output_type": "stream",
     "text": [
      "actor table created successfully........\n"
     ]
    }
   ],
   "source": [
    "cursor.execute(ETL_actors)\n",
    "print(\"actor table created successfully........\")"
   ]
  },
  {
   "cell_type": "code",
   "execution_count": 55,
   "metadata": {},
   "outputs": [
    {
     "name": "stdout",
     "output_type": "stream",
     "text": [
      "movies_info table created successfully........\n"
     ]
    }
   ],
   "source": [
    "cursor.execute(ETL_movies_info)\n",
    "print(\"movies_info table created successfully........\")"
   ]
  },
  {
   "cell_type": "markdown",
   "metadata": {},
   "source": [
    "## Test Data Insert"
   ]
  },
  {
   "cell_type": "code",
   "execution_count": 41,
   "metadata": {},
   "outputs": [],
   "source": [
    "import pandas as pd\n",
    "import csv"
   ]
  },
  {
   "cell_type": "code",
   "execution_count": 28,
   "metadata": {},
   "outputs": [
    {
     "data": {
      "text/html": [
       "<div>\n",
       "<style scoped>\n",
       "    .dataframe tbody tr th:only-of-type {\n",
       "        vertical-align: middle;\n",
       "    }\n",
       "\n",
       "    .dataframe tbody tr th {\n",
       "        vertical-align: top;\n",
       "    }\n",
       "\n",
       "    .dataframe thead th {\n",
       "        text-align: right;\n",
       "    }\n",
       "</style>\n",
       "<table border=\"1\" class=\"dataframe\">\n",
       "  <thead>\n",
       "    <tr style=\"text-align: right;\">\n",
       "      <th></th>\n",
       "      <th>id</th>\n",
       "      <th>names</th>\n",
       "      <th>last role</th>\n",
       "    </tr>\n",
       "  </thead>\n",
       "  <tbody>\n",
       "    <tr>\n",
       "      <td>0</td>\n",
       "      <td>352835</td>\n",
       "      <td>Brahim Hadjadj</td>\n",
       "      <td>Buamama</td>\n",
       "    </tr>\n",
       "    <tr>\n",
       "      <td>1</td>\n",
       "      <td>552483</td>\n",
       "      <td>Jean Martin</td>\n",
       "      <td>Dossier: disparus</td>\n",
       "    </tr>\n",
       "    <tr>\n",
       "      <td>2</td>\n",
       "      <td>754272</td>\n",
       "      <td>Yacef Saadi</td>\n",
       "      <td>The Battle of Algiers</td>\n",
       "    </tr>\n",
       "    <tr>\n",
       "      <td>3</td>\n",
       "      <td>449197</td>\n",
       "      <td>Samia Kerbash</td>\n",
       "      <td>The Battle of Algiers</td>\n",
       "    </tr>\n",
       "    <tr>\n",
       "      <td>4</td>\n",
       "      <td>657597</td>\n",
       "      <td>Ugo Paletti</td>\n",
       "      <td>The Battle of Algiers</td>\n",
       "    </tr>\n",
       "    <tr>\n",
       "      <td>5</td>\n",
       "      <td>252678</td>\n",
       "      <td>Fusia El Kader</td>\n",
       "      <td>The Battle of Algiers</td>\n",
       "    </tr>\n",
       "    <tr>\n",
       "      <td>6</td>\n",
       "      <td>69934</td>\n",
       "      <td>Mohamed Ben Kassen</td>\n",
       "      <td>The Battle of Algiers</td>\n",
       "    </tr>\n",
       "    <tr>\n",
       "      <td>7</td>\n",
       "      <td>605398</td>\n",
       "      <td>Franco Moruzzi</td>\n",
       "      <td>I guerrieri dell'anno 2072</td>\n",
       "    </tr>\n",
       "    <tr>\n",
       "      <td>8</td>\n",
       "      <td>626221</td>\n",
       "      <td>Tommaso Neri</td>\n",
       "      <td>The Battle of Algiers</td>\n",
       "    </tr>\n",
       "    <tr>\n",
       "      <td>9</td>\n",
       "      <td>746250</td>\n",
       "      <td>Rouïched</td>\n",
       "      <td>Adhilai al beida</td>\n",
       "    </tr>\n",
       "    <tr>\n",
       "      <td>10</td>\n",
       "      <td>921881</td>\n",
       "      <td>Gene Wesson</td>\n",
       "      <td>The Battle of Algiers</td>\n",
       "    </tr>\n",
       "  </tbody>\n",
       "</table>\n",
       "</div>"
      ],
      "text/plain": [
       "        id               names                   last role\n",
       "0   352835      Brahim Hadjadj                     Buamama\n",
       "1   552483         Jean Martin           Dossier: disparus\n",
       "2   754272         Yacef Saadi       The Battle of Algiers\n",
       "3   449197       Samia Kerbash       The Battle of Algiers\n",
       "4   657597         Ugo Paletti       The Battle of Algiers\n",
       "5   252678      Fusia El Kader       The Battle of Algiers\n",
       "6    69934  Mohamed Ben Kassen       The Battle of Algiers\n",
       "7   605398      Franco Moruzzi  I guerrieri dell'anno 2072\n",
       "8   626221        Tommaso Neri       The Battle of Algiers\n",
       "9   746250            Rouïched            Adhilai al beida\n",
       "10  921881         Gene Wesson       The Battle of Algiers"
      ]
     },
     "execution_count": 28,
     "metadata": {},
     "output_type": "execute_result"
    }
   ],
   "source": [
    "actor_df = pd.read_csv(\"actor_dummy.csv\")\n",
    "actor_df"
   ]
  },
  {
   "cell_type": "code",
   "execution_count": 38,
   "metadata": {},
   "outputs": [
    {
     "name": "stdout",
     "output_type": "stream",
     "text": [
      "0 id                   352835\n",
      "names        Brahim Hadjadj\n",
      "last role           Buamama\n",
      "Name: 0, dtype: object\n",
      "1 id                      552483\n",
      "names              Jean Martin\n",
      "last role    Dossier: disparus\n",
      "Name: 1, dtype: object\n",
      "2 id                          754272\n",
      "names                  Yacef Saadi\n",
      "last role    The Battle of Algiers\n",
      "Name: 2, dtype: object\n",
      "3 id                          449197\n",
      "names                Samia Kerbash\n",
      "last role    The Battle of Algiers\n",
      "Name: 3, dtype: object\n",
      "4 id                          657597\n",
      "names                  Ugo Paletti\n",
      "last role    The Battle of Algiers\n",
      "Name: 4, dtype: object\n",
      "5 id                          252678\n",
      "names               Fusia El Kader\n",
      "last role    The Battle of Algiers\n",
      "Name: 5, dtype: object\n",
      "6 id                           69934\n",
      "names           Mohamed Ben Kassen\n",
      "last role    The Battle of Algiers\n",
      "Name: 6, dtype: object\n",
      "7 id                               605398\n",
      "names                    Franco Moruzzi\n",
      "last role    I guerrieri dell'anno 2072\n",
      "Name: 7, dtype: object\n",
      "8 id                          626221\n",
      "names                 Tommaso Neri\n",
      "last role    The Battle of Algiers\n",
      "Name: 8, dtype: object\n",
      "9 id                     746250\n",
      "names                Rouïched\n",
      "last role    Adhilai al beida\n",
      "Name: 9, dtype: object\n",
      "10 id                          921881\n",
      "names                  Gene Wesson\n",
      "last role    The Battle of Algiers\n",
      "Name: 10, dtype: object\n"
     ]
    }
   ],
   "source": [
    "actor_df.iloc[0,]\n",
    "\n",
    "#for x in range(10):\n",
    "#    print(actor_df.iloc[x,1])\n",
    "for row, value in actor_df.iterrows():\n",
    "    print(row, value)"
   ]
  },
  {
   "cell_type": "code",
   "execution_count": null,
   "metadata": {},
   "outputs": [],
   "source": [
    "insert_part = \"INSERT INTO actors VALUES (%s, %s, %s)\"\n",
    "cursor.execute(insert_part, (row1_list))\n",
    "#insert query = \"INSERT INTO actors VALUES {}\".format(\"(000000, 'Aranza Dumbledore', 'The Lion King')\")\n",
    "cursor.copy_from"
   ]
  },
  {
   "cell_type": "markdown",
   "metadata": {},
   "source": [
    "## Use the \"with open\" loop to go straight from CSV to SQL"
   ]
  },
  {
   "cell_type": "code",
   "execution_count": 45,
   "metadata": {},
   "outputs": [],
   "source": [
    "with open('actor_dummy.csv', 'r') as f:\n",
    "    reader = csv.reader(f)\n",
    "    next(reader) # Skip the header row.\n",
    "    for row in reader:\n",
    "        cursor.execute(\n",
    "        \"INSERT INTO actors VALUES (%s, %s, %s)\",\n",
    "        row\n",
    "        )"
   ]
  },
  {
   "cell_type": "code",
   "execution_count": 47,
   "metadata": {},
   "outputs": [],
   "source": [
    "act = cursor.execute(\"select * from actors\")"
   ]
  },
  {
   "cell_type": "code",
   "execution_count": 49,
   "metadata": {},
   "outputs": [
    {
     "name": "stdout",
     "output_type": "stream",
     "text": [
      "[(352835, 'Brahim Hadjadj', 'Buamama'), (552483, 'Jean Martin', 'Dossier: disparus'), (754272, 'Yacef Saadi', 'The Battle of Algiers'), (449197, 'Samia Kerbash', 'The Battle of Algiers'), (657597, 'Ugo Paletti', 'The Battle of Algiers'), (252678, 'Fusia El Kader', 'The Battle of Algiers'), (69934, 'Mohamed Ben Kassen', 'The Battle of Algiers'), (605398, 'Franco Moruzzi', \"I guerrieri dell'anno 2072\"), (626221, 'Tommaso Neri', 'The Battle of Algiers'), (746250, 'Rouïched', 'Adhilai al beida'), (921881, 'Gene Wesson', 'The Battle of Algiers')]\n"
     ]
    }
   ],
   "source": [
    "result = cursor.fetchall()\n",
    "print(result)"
   ]
  },
  {
   "cell_type": "code",
   "execution_count": null,
   "metadata": {},
   "outputs": [],
   "source": [
    "csv_name = 'actor_dummy.csv'\n",
    "table = \"actors_role\"\n",
    "with open(csv_name, 'r') as f:\n",
    "    reader = csv.reader(f)\n",
    "    next(reader) # Skip the header row.\n",
    "    for row in reader:\n",
    "        cursor.execute(\n",
    "        \"INSERT INTO {table} VALUES (%s, %s, %s)\",\n",
    "        row\n",
    "        )"
   ]
  },
  {
   "cell_type": "code",
   "execution_count": 63,
   "metadata": {},
   "outputs": [],
   "source": [
    "csv_path = 'actor_dummy.csv'\n",
    "table = \"actors_role\"\n",
    "\n",
    "def load_table(csv_path, table):\n",
    "    with open(csv_path, 'r') as f:\n",
    "        reader = csv.reader(f)\n",
    "        next(reader) # Skip the header row.\n",
    "        fstring = f\"INSERT INTO {table} VALUES (%s, %s, %s)\"\n",
    "        for row in reader:\n",
    "            cursor.execute(\n",
    "            fstring,\n",
    "            row\n",
    "            )"
   ]
  },
  {
   "cell_type": "code",
   "execution_count": 64,
   "metadata": {},
   "outputs": [],
   "source": [
    "load_table(csv_path, table)"
   ]
  },
  {
   "cell_type": "code",
   "execution_count": 66,
   "metadata": {},
   "outputs": [
    {
     "name": "stdout",
     "output_type": "stream",
     "text": [
      "[(352835, 'Brahim Hadjadj', 'Buamama'), (552483, 'Jean Martin', 'Dossier: disparus'), (754272, 'Yacef Saadi', 'The Battle of Algiers'), (449197, 'Samia Kerbash', 'The Battle of Algiers'), (657597, 'Ugo Paletti', 'The Battle of Algiers'), (252678, 'Fusia El Kader', 'The Battle of Algiers'), (69934, 'Mohamed Ben Kassen', 'The Battle of Algiers'), (605398, 'Franco Moruzzi', \"I guerrieri dell'anno 2072\"), (626221, 'Tommaso Neri', 'The Battle of Algiers'), (746250, 'Rouïched', 'Adhilai al beida'), (921881, 'Gene Wesson', 'The Battle of Algiers')]\n"
     ]
    }
   ],
   "source": [
    "cursor.execute(\"SELECT * FROM actors_role\")\n",
    "result = cursor.fetchall()\n",
    "print(result)"
   ]
  },
  {
   "cell_type": "code",
   "execution_count": null,
   "metadata": {},
   "outputs": [],
   "source": [
    "#Closing the connection\n",
    "conn.close()"
   ]
  }
 ],
 "metadata": {
  "kernelspec": {
   "display_name": "Python 3",
   "language": "python",
   "name": "python3"
  },
  "language_info": {
   "codemirror_mode": {
    "name": "ipython",
    "version": 3
   },
   "file_extension": ".py",
   "mimetype": "text/x-python",
   "name": "python",
   "nbconvert_exporter": "python",
   "pygments_lexer": "ipython3",
   "version": "3.7.4"
  }
 },
 "nbformat": 4,
 "nbformat_minor": 2
}
