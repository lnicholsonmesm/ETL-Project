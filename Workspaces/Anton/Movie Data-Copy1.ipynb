{
 "cells": [
  {
   "cell_type": "code",
   "execution_count": 2,
   "metadata": {},
   "outputs": [],
   "source": [
    "import pandas as pd\n",
    "from imdb import IMDb"
   ]
  },
  {
   "cell_type": "code",
   "execution_count": 3,
   "metadata": {},
   "outputs": [],
   "source": [
    "#create instance of IMDb class\n",
    "ia = IMDb()"
   ]
  },
  {
   "cell_type": "code",
   "execution_count": 4,
   "metadata": {},
   "outputs": [],
   "source": [
    "top = ia.get_top250_movies()"
   ]
  },
  {
   "cell_type": "code",
   "execution_count": 5,
   "metadata": {},
   "outputs": [],
   "source": [
    "rating = []\n",
    "title = []\n",
    "id = []\n",
    "\n",
    "for i in range(250):\n",
    "    id.append(top[i].movieID)\n",
    "    rating.append(top[i]['rating'])\n",
    "    title.append(top[i]['title'])"
   ]
  },
  {
   "cell_type": "code",
   "execution_count": 6,
   "metadata": {
    "scrolled": true
   },
   "outputs": [
    {
     "name": "stdout",
     "output_type": "stream",
     "text": [
      "[9.2, 9.1, 9.0, 9.0, 8.9, 8.9, 8.9, 8.8, 8.8, 8.8, 8.8, 8.8, 8.7, 8.7, 8.7, 8.6, 8.6, 8.6, 8.6, 8.6, 8.6, 8.6, 8.6, 8.6, 8.6, 8.5, 8.5, 8.5, 8.5, 8.5, 8.5, 8.5, 8.5, 8.5, 8.5, 8.5, 8.5, 8.5, 8.5, 8.5, 8.5, 8.5, 8.5, 8.5, 8.5, 8.5, 8.5, 8.4, 8.4, 8.4, 8.4, 8.4, 8.4, 8.4, 8.4, 8.4, 8.4, 8.4, 8.4, 8.4, 8.4, 8.4, 8.4, 8.4, 8.4, 8.4, 8.4, 8.4, 8.4, 8.3, 8.3, 8.3, 8.3, 8.3, 8.3, 8.3, 8.3, 8.3, 8.3, 8.3, 8.3, 8.3, 8.3, 8.3, 8.3, 8.3, 8.3, 8.3, 8.3, 8.3, 8.3, 8.3, 8.3, 8.3, 8.3, 8.3, 8.3, 8.3, 8.3, 8.2, 8.2, 8.2, 8.2, 8.2, 8.2, 8.2, 8.2, 8.2, 8.2, 8.2, 8.2, 8.2, 8.2, 8.2, 8.2, 8.2, 8.2, 8.2, 8.2, 8.2, 8.2, 8.2, 8.2, 8.2, 8.2, 8.2, 8.2, 8.2, 8.2, 8.2, 8.2, 8.2, 8.2, 8.2, 8.2, 8.2, 8.2, 8.2, 8.2, 8.2, 8.2, 8.2, 8.2, 8.2, 8.1, 8.1, 8.1, 8.1, 8.1, 8.1, 8.1, 8.1, 8.1, 8.1, 8.1, 8.1, 8.1, 8.1, 8.1, 8.1, 8.1, 8.1, 8.1, 8.1, 8.1, 8.1, 8.1, 8.1, 8.1, 8.1, 8.1, 8.1, 8.1, 8.1, 8.1, 8.1, 8.1, 8.1, 8.1, 8.1, 8.1, 8.1, 8.1, 8.1, 8.1, 8.1, 8.1, 8.1, 8.1, 8.1, 8.1, 8.1, 8.1, 8.1, 8.1, 8.1, 8.1, 8.1, 8.1, 8.1, 8.1, 8.1, 8.1, 8.1, 8.1, 8.1, 8.1, 8.1, 8.1, 8.1, 8.1, 8.1, 8.1, 8.1, 8.1, 8.1, 8.0, 8.0, 8.0, 8.0, 8.0, 8.0, 8.0, 8.0, 8.0, 8.0, 8.0, 8.0, 8.0, 8.0, 8.0, 8.0, 8.0, 8.0, 8.0, 8.0, 8.0, 8.0, 8.0, 8.0, 8.0, 8.0, 8.0, 8.0, 8.0, 8.0, 8.0, 8.0, 8.0, 8.0]\n",
      "['The Shawshank Redemption', 'The Godfather', 'The Godfather: Part II', 'The Dark Knight', '12 Angry Men', \"Schindler's List\", 'The Lord of the Rings: The Return of the King', 'Pulp Fiction', 'The Good, the Bad and the Ugly', 'The Lord of the Rings: The Fellowship of the Ring', 'Fight Club', 'Forrest Gump', 'Inception', 'Star Wars: Episode V - The Empire Strikes Back', 'The Lord of the Rings: The Two Towers', 'The Matrix', 'Goodfellas', \"One Flew Over the Cuckoo's Nest\", 'Seven Samurai', 'Se7en', 'Life Is Beautiful', 'City of God', 'The Silence of the Lambs', \"It's a Wonderful Life\", 'Star Wars: Episode IV - A New Hope', 'Saving Private Ryan', 'Spirited Away', 'Parasite', 'The Green Mile', 'Interstellar', 'Léon: The Professional', 'The Usual Suspects', 'Harakiri', 'The Lion King', 'The Pianist', 'Back to the Future', 'American History X', 'Terminator 2: Judgment Day', 'Modern Times', 'Psycho', 'Gladiator', 'City Lights', 'The Departed', 'The Intouchables', 'Whiplash', 'The Prestige', 'Once Upon a Time in the West', 'Grave of the Fireflies', 'Casablanca', 'Rear Window', 'Cinema Paradiso', 'Alien', 'Apocalypse Now', 'Memento', 'Joker', 'Raiders of the Lost Ark', 'The Great Dictator', 'The Lives of Others', 'Django Unchained', 'Paths of Glory', 'The Shining', 'WALL·E', 'Avengers: Infinity War', 'Sunset Blvd.', 'Princess Mononoke', 'Spider-Man: Into the Spider-Verse', 'Dr. Strangelove or: How I Learned to Stop Worrying and Love the Bomb', 'Oldboy', 'Witness for the Prosecution', 'The Dark Knight Rises', 'Avengers: Endgame', 'Once Upon a Time in America', 'Aliens', 'Your Name.', 'Coco', 'American Beauty', 'Braveheart', 'Das Boot', '3 Idiots', 'Toy Story', 'High and Low', 'Like Stars on Earth', 'Amadeus', 'Star Wars: Episode VI - Return of the Jedi', 'Reservoir Dogs', 'Inglourious Basterds', 'Good Will Hunting', '1917', '2001: A Space Odyssey', 'Vertigo', 'Requiem for a Dream', 'Capernaum', 'M', 'Dangal', 'Anand', 'Eternal Sunshine of the Spotless Mind', 'Citizen Kane', 'The Hunt', 'Full Metal Jacket', 'Bicycle Thieves', 'North by Northwest', 'A Clockwork Orange', 'The Kid', 'Snatch', \"Singin' in the Rain\", 'Scarface', 'Taxi Driver', 'Amélie', 'Lawrence of Arabia', 'Toy Story 3', 'The Sting', 'Ikiru', 'Metropolis', 'A Separation', 'For a Few Dollars More', 'Double Indemnity', 'The Apartment', 'Incendies', 'To Kill a Mockingbird', 'Indiana Jones and the Last Crusade', 'Up', 'L.A. Confidential', 'Heat', 'Monty Python and the Holy Grail', 'Die Hard', 'Come and See', 'Rashomon', 'Yojimbo', 'Batman Begins', 'Green Book', 'Downfall', 'Children of Heaven', 'Unforgiven', 'Some Like It Hot', 'Ran', \"Howl's Moving Castle\", 'The Great Escape', 'A Beautiful Mind', 'All About Eve', 'Casino', \"Pan's Labyrinth\", 'The Wolf of Wall Street', 'The Secret in Their Eyes', 'My Neighbor Totoro', 'Lock, Stock and Two Smoking Barrels', 'Raging Bull', 'There Will Be Blood', 'The Treasure of the Sierra Madre', 'Judgment at Nuremberg', 'My Father and My Son', 'Three Billboards Outside Ebbing, Missouri', 'Dial M for Murder', 'The Gold Rush', 'Chinatown', 'V for Vendetta', 'No Country for Old Men', 'The Seventh Seal', 'Inside Out', 'Shutter Island', 'Warrior', 'The Elephant Man', 'Trainspotting', 'The Sixth Sense', 'The Thing', 'Jurassic Park', 'Gone with the Wind', 'Wild Strawberries', 'Room', 'Blade Runner', 'Finding Nemo', 'The Bridge on the River Kwai', 'The Truman Show', 'Stalker', 'Kill Bill: Vol. 1', 'Fargo', 'On the Waterfront', 'The Third Man', 'Gran Torino', 'Tokyo Story', 'The Deer Hunter', 'Memories of Murder', 'Wild Tales', 'Klaus', 'The Bandit', 'Andhadhun', 'Mary and Max', 'The Big Lebowski', 'In the Name of the Father', 'Gone Girl', 'Hacksaw Ridge', 'The Grand Budapest Hotel', 'Persona', 'Before Sunrise', 'To Be or Not to Be', 'Catch Me If You Can', 'Ford v Ferrari', 'The General', 'How to Train Your Dragon', 'Mr. Smith Goes to Washington', 'Sherlock Jr.', 'Prisoners', '12 Years a Slave', 'Mad Max: Fury Road', 'Barry Lyndon', 'Cool Hand Luke', 'Network', 'Stand by Me', 'The Wages of Fear', 'Million Dollar Baby', 'Into the Wild', \"Hachi: A Dog's Tale\", 'Ben-Hur', \"Monty Python's Life of Brian\", 'Platoon', 'Rush', 'Dead Poets Society', 'Harry Potter and the Deathly Hallows: Part 2', 'Logan', 'Andrei Rublev', 'The Passion of Joan of Arc', 'The 400 Blows', 'Hotel Rwanda', 'The Handmaiden', 'Amores Perros', 'Spotlight', 'Rang De Basanti', 'Nausicaä of the Valley of the Wind', 'Rocky', 'Rebecca', 'La Haine', 'Monsters, Inc.', 'Gangs of Wasseypur', 'Portrait of a Lady on Fire', 'It Happened One Night', 'In the Mood for Love', 'Before Sunset', 'Paris, Texas', 'The Help', 'The Invisible Guest', 'The Princess Bride', 'Drishyam', 'The Terminator', 'Hera Pheri', 'Fanny and Alexander', 'Throne of Blood', 'Aladdin', 'Tangerines', 'Three Colors: Red', 'PK', 'A Silent Voice: The Movie']\n",
      "['0111161', '0068646', '0071562', '0468569', '0050083', '0108052', '0167260', '0110912', '0060196', '0120737', '0137523', '0109830', '1375666', '0080684', '0167261', '0133093', '0099685', '0073486', '0047478', '0114369', '0118799', '0317248', '0102926', '0038650', '0076759', '0120815', '0245429', '6751668', '0120689', '0816692', '0110413', '0114814', '0056058', '0110357', '0253474', '0088763', '0120586', '0103064', '0027977', '0054215', '0172495', '0021749', '0407887', '1675434', '2582802', '0482571', '0064116', '0095327', '0034583', '0047396', '0095765', '0078748', '0078788', '0209144', '7286456', '0082971', '0032553', '0405094', '1853728', '0050825', '0081505', '0910970', '4154756', '0043014', '0119698', '4633694', '0057012', '0364569', '0051201', '1345836', '4154796', '0087843', '0090605', '5311514', '2380307', '0169547', '0112573', '0082096', '1187043', '0114709', '0057565', '0986264', '0086879', '0086190', '0105236', '0361748', '0119217', '8579674', '0062622', '0052357', '0180093', '8267604', '0022100', '5074352', '0066763', '0338013', '0033467', '2106476', '0093058', '0040522', '0053125', '0066921', '0012349', '0208092', '0045152', '0086250', '0075314', '0211915', '0056172', '0435761', '0070735', '0044741', '0017136', '1832382', '0059578', '0036775', '0053604', '1255953', '0056592', '0097576', '1049413', '0119488', '0113277', '0071853', '0095016', '0091251', '0042876', '0055630', '0372784', '6966692', '0363163', '0118849', '0105695', '0053291', '0089881', '0347149', '0057115', '0268978', '0042192', '0112641', '0457430', '0993846', '1305806', '0096283', '0120735', '0081398', '0469494', '0040897', '0055031', '0476735', '5027774', '0046912', '0015864', '0071315', '0434409', '0477348', '0050976', '2096673', '1130884', '1291584', '0080678', '0117951', '0167404', '0084787', '0107290', '0031381', '0050986', '3170832', '0083658', '0266543', '0050212', '0120382', '0079944', '0266697', '0116282', '0047296', '0041959', '1205489', '0046438', '0077416', '0353969', '3011894', '4729430', '0116231', '8108198', '0978762', '0118715', '0107207', '2267998', '2119532', '2278388', '0060827', '0112471', '0035446', '0264464', '1950186', '0017925', '0892769', '0031679', '0015324', '1392214', '2024544', '1392190', '0072684', '0061512', '0074958', '0092005', '0046268', '0405159', '0758758', '1028532', '0052618', '0079470', '0091763', '1979320', '0097165', '1201607', '3315342', '0060107', '0019254', '0053198', '0395169', '4016934', '0245712', '1895587', '0405508', '0087544', '0075148', '0032976', '0113247', '0198781', '1954470', '8613070', '0025316', '0118694', '0381681', '0087884', '1454029', '4857264', '0093779', '4430212', '0088247', '0242519', '0083922', '0050613', '0103639', '2991224', '0111495', '2338151', '5323662']\n"
     ]
    }
   ],
   "source": [
    "print(rating)\n",
    "print(title)\n",
    "print(id)"
   ]
  },
  {
   "cell_type": "code",
   "execution_count": null,
   "metadata": {},
   "outputs": [],
   "source": []
  },
  {
   "cell_type": "code",
   "execution_count": 7,
   "metadata": {
    "scrolled": true
   },
   "outputs": [
    {
     "data": {
      "text/plain": [
       "{'main': ['cast',\n",
       "  'genres',\n",
       "  'runtimes',\n",
       "  'countries',\n",
       "  'country codes',\n",
       "  'language codes',\n",
       "  'color info',\n",
       "  'aspect ratio',\n",
       "  'sound mix',\n",
       "  'box office',\n",
       "  'certificates',\n",
       "  'original air date',\n",
       "  'rating',\n",
       "  'votes',\n",
       "  'cover url',\n",
       "  'plot outline',\n",
       "  'languages',\n",
       "  'title',\n",
       "  'year',\n",
       "  'kind',\n",
       "  'directors',\n",
       "  'writers',\n",
       "  'producers',\n",
       "  'composers',\n",
       "  'cinematographers',\n",
       "  'editors',\n",
       "  'editorial department',\n",
       "  'casting directors',\n",
       "  'production designers',\n",
       "  'art directors',\n",
       "  'set decorators',\n",
       "  'costume designers',\n",
       "  'make up department',\n",
       "  'production managers',\n",
       "  'assistant directors',\n",
       "  'art department',\n",
       "  'sound department',\n",
       "  'special effects',\n",
       "  'visual effects',\n",
       "  'stunts',\n",
       "  'camera department',\n",
       "  'casting department',\n",
       "  'costume departmen',\n",
       "  'location management',\n",
       "  'music department',\n",
       "  'script department',\n",
       "  'transportation department',\n",
       "  'miscellaneous',\n",
       "  'thanks',\n",
       "  'akas',\n",
       "  'writer',\n",
       "  'director',\n",
       "  'top 250 rank',\n",
       "  'production companies',\n",
       "  'distributors',\n",
       "  'special effects companies',\n",
       "  'other companies'],\n",
       " 'plot': ['plot', 'synopsis']}"
      ]
     },
     "execution_count": 7,
     "metadata": {},
     "output_type": "execute_result"
    }
   ],
   "source": [
    "movie = ia.get_movie('0111161')\n",
    "movie.infoset2keys"
   ]
  },
  {
   "cell_type": "code",
   "execution_count": 8,
   "metadata": {},
   "outputs": [
    {
     "data": {
      "text/plain": [
       "{'taglines': ['taglines'], 'plot': ['plot', 'synopsis']}"
      ]
     },
     "execution_count": 8,
     "metadata": {},
     "output_type": "execute_result"
    }
   ],
   "source": [
    "movie = ia.get_movie('0111161', info=['taglines', 'plot'])\n",
    "movie.infoset2keys"
   ]
  },
  {
   "cell_type": "code",
   "execution_count": 9,
   "metadata": {},
   "outputs": [
    {
     "data": {
      "text/plain": [
       "'Two imprisoned men bond over a number of years, finding solace and eventual redemption through acts of common decency.::Carl Schultz'"
      ]
     },
     "execution_count": 9,
     "metadata": {},
     "output_type": "execute_result"
    }
   ],
   "source": [
    "movie.get('title')\n",
    "movie.get('taglines')\n",
    "movie.get('plot')[0]"
   ]
  },
  {
   "cell_type": "code",
   "execution_count": 10,
   "metadata": {},
   "outputs": [
    {
     "name": "stdout",
     "output_type": "stream",
     "text": [
      "The Shawshank Redemption\n",
      "9.3\n"
     ]
    }
   ],
   "source": [
    "code = '0111161'\n",
    "series = ia.get_movie(code)\n",
    "rating = series.data['rating']\n",
    "print(series)\n",
    "print(rating)"
   ]
  },
  {
   "cell_type": "code",
   "execution_count": 13,
   "metadata": {},
   "outputs": [
    {
     "data": {
      "text/plain": [
       "[<Person id:0000209[http] name:_Tim Robbins_>,\n",
       " <Person id:0000151[http] name:_Morgan Freeman_>,\n",
       " <Person id:0348409[http] name:_Bob Gunton_>,\n",
       " <Person id:0006669[http] name:_William Sadler_>,\n",
       " <Person id:0000317[http] name:_Clancy Brown_>,\n",
       " <Person id:0004743[http] name:_Gil Bellows_>,\n",
       " <Person id:0001679[http] name:_Mark Rolston_>,\n",
       " <Person id:0926235[http] name:_James Whitmore_>,\n",
       " <Person id:0218810[http] name:_Jeffrey DeMunn_>,\n",
       " <Person id:0104594[http] name:_Larry Brandenburg_>,\n",
       " <Person id:0321358[http] name:_Neil Giuntoli_>,\n",
       " <Person id:0508742[http] name:_Brian Libby_>,\n",
       " <Person id:0698998[http] name:_David Proval_>,\n",
       " <Person id:0706554[http] name:_Joseph Ragno_>,\n",
       " <Person id:0161980[http] name:_Jude Ciccolella_>,\n",
       " <Person id:0005204[http] name:_Paul McCrane_>,\n",
       " <Person id:0086169[http] name:_Renee Blaine_>,\n",
       " <Person id:0542957[http] name:_Scott Mann_>,\n",
       " <Person id:0395612[http] name:_John Horton_>,\n",
       " <Person id:2939075[http] name:_Gordon Greene_>,\n",
       " <Person id:0293285[http] name:_Alfonso Freeman_>,\n",
       " <Person id:0288106[http] name:_V.J. Foster_>,\n",
       " <Person id:0838734[http] name:_John E. Summers_>,\n",
       " <Person id:0535084[http] name:_Frank Medrano_>,\n",
       " <Person id:0587183[http] name:_Mack Miles_>,\n",
       " <Person id:0450287[http] name:_Alan R. Kessler_>,\n",
       " <Person id:0526218[http] name:_Morgan Lund_>,\n",
       " <Person id:0908581[http] name:_Cornell Wallace_>,\n",
       " <Person id:0204632[http] name:_Gary Lee Davis_>,\n",
       " <Person id:0838612[http] name:_Neil Summers_>,\n",
       " <Person id:0068709[http] name:_Ned Bellamy_>,\n",
       " <Person id:0669787[http] name:_Joe Pecoraro_>,\n",
       " <Person id:0178535[http] name:_Harold E. Cope Jr._>,\n",
       " <Person id:0216507[http] name:_Brian Delate_>,\n",
       " <Person id:0573134[http] name:_Don McManus_>,\n",
       " <Person id:0957014[http] name:_Donald Zinn_>,\n",
       " <Person id:0798685[http] name:_Dorothy Silver_>,\n",
       " <Person id:0355121[http] name:_Robert Haley_>,\n",
       " <Person id:0811432[http] name:_Dana Snyder_>,\n",
       " <Person id:0185905[http] name:_John D. Craig_>,\n",
       " <Person id:0535850[http] name:_Ken Magee_>,\n",
       " <Person id:0195920[http] name:_Eugene C. DePasquale_>,\n",
       " <Person id:0092877[http] name:_Bill Bolender_>,\n",
       " <Person id:0627830[http] name:_Ron Newell_>,\n",
       " <Person id:0003440[http] name:_John R. Woodward_>,\n",
       " <Person id:0105623[http] name:_Chuck Brauchler_>,\n",
       " <Person id:0026627[http] name:_Dion Anderson_>,\n",
       " <Person id:0805731[http] name:_Claire Slemmer_>,\n",
       " <Person id:0457267[http] name:_James Kisicki_>,\n",
       " <Person id:0859459[http] name:_Rohn Thomas_>,\n",
       " <Person id:0443989[http] name:_Charlie Kearns_>,\n",
       " <Person id:0717493[http] name:_Rob Reider_>,\n",
       " <Person id:0112393[http] name:_Brian Brophy_>,\n",
       " <Person id:0448271[http] name:_Paul Kennedy_>,\n",
       " <Person id:1186736[http] name:_James Babson_>,\n",
       " <Person id:1042077[http] name:_Dennis Baker_>,\n",
       " <Person id:0191355[http] name:_Fred Culbertson_>,\n",
       " <Person id:1152611[http] name:_Richard Doone_>,\n",
       " <Person id:10232245[http] name:_Shane Grove_>,\n",
       " <Person id:0000028[http] name:_Rita Hayworth_>,\n",
       " <Person id:0372949[http] name:_David Hecht_>,\n",
       " <Person id:1115889[http] name:_Alonzo F. Jones_>,\n",
       " <Person id:4688815[http] name:_Gary Jones_>,\n",
       " <Person id:1415992[http] name:_Sergio Kato_>,\n",
       " <Person id:0510027[http] name:_Michael Lightsey_>,\n",
       " <Person id:0534317[http] name:_George Macready_>,\n",
       " <Person id:5232399[http] name:_Christopher Page_>,\n",
       " <Person id:5432303[http] name:_Neil Riddaway_>,\n",
       " <Person id:0817875[http] name:_Brad Spencer_>,\n",
       " <Person id:0827368[http] name:_Jodiviah Stepp_>,\n",
       " <Person id:10729084[http] name:_Mark A. Strain_>]"
      ]
     },
     "execution_count": 13,
     "metadata": {},
     "output_type": "execute_result"
    }
   ],
   "source": [
    "movie = ia.get_movie('0111161')\n",
    "cast = movie.get('cast')\n",
    "cast"
   ]
  },
  {
   "cell_type": "code",
   "execution_count": 22,
   "metadata": {},
   "outputs": [
    {
     "data": {
      "text/plain": [
       "'Tim Robbins'"
      ]
     },
     "execution_count": 22,
     "metadata": {},
     "output_type": "execute_result"
    }
   ],
   "source": [
    "ia.get_movie('0111161').get('cast')[0][\"name\"]"
   ]
  },
  {
   "cell_type": "code",
   "execution_count": 24,
   "metadata": {},
   "outputs": [],
   "source": [
    "cast_0_names = []\n",
    "cast_1_names = []\n",
    "\n",
    "for i in id:\n",
    "    cast_0_names.append(ia.get_movie(i).get('cast')[0][\"name\"])\n",
    "    cast_1_names.append(ia.get_movie(i).get('cast')[1][\"name\"])"
   ]
  },
  {
   "cell_type": "code",
   "execution_count": null,
   "metadata": {},
   "outputs": [],
   "source": [
    "cast_0_ids = []\n",
    "cast_1_ids = []\n",
    "\n",
    "for name in cast_0_names:\n",
    "    cast_0_ids.append(name.getID())\n",
    "    cast_0_ids.append(name.getID())"
   ]
  },
  {
   "cell_type": "code",
   "execution_count": null,
   "metadata": {},
   "outputs": [],
   "source": [
    "main_cast_movie = pd.DataFrame({\"movie id\": id, \"movie title\": title, \"main cast member id\": cast_0_ids,\n",
    "                          \"main cast member name\": cast_0_names, \"other cast member id\": cast_1_ids, \"other cast member name\": cast_1_names})\n",
    "main_cast_movie"
   ]
  }
 ],
 "metadata": {
  "kernelspec": {
   "display_name": "Python 3",
   "language": "python",
   "name": "python3"
  },
  "language_info": {
   "codemirror_mode": {
    "name": "ipython",
    "version": 3
   },
   "file_extension": ".py",
   "mimetype": "text/x-python",
   "name": "python",
   "nbconvert_exporter": "python",
   "pygments_lexer": "ipython3",
   "version": "3.7.6"
  }
 },
 "nbformat": 4,
 "nbformat_minor": 4
}
