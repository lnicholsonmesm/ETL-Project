{
 "cells": [
  {
   "cell_type": "code",
   "execution_count": 1,
   "metadata": {},
   "outputs": [],
   "source": [
    "import pandas as pd\n",
    "from imdb import IMDb"
   ]
  },
  {
   "cell_type": "code",
   "execution_count": 2,
   "metadata": {},
   "outputs": [],
   "source": [
    "#create instance of IMDb class\n",
    "ia = IMDb()"
   ]
  },
  {
   "cell_type": "code",
   "execution_count": 3,
   "metadata": {},
   "outputs": [],
   "source": [
    "top = ia.get_top250_movies()"
   ]
  },
  {
   "cell_type": "code",
   "execution_count": 4,
   "metadata": {},
   "outputs": [],
   "source": [
    "rating = []\n",
    "title = []\n",
    "id = []\n",
    "\n",
    "for i in range(250):\n",
    "    id.append(top[i].movieID)\n",
    "    rating.append(top[i]['rating'])\n",
    "    title.append(top[i]['title'])"
   ]
  },
  {
   "cell_type": "code",
   "execution_count": 5,
   "metadata": {
    "scrolled": true
   },
   "outputs": [
    {
     "name": "stdout",
     "output_type": "stream",
     "text": [
      "[9.2, 9.1, 9.0, 9.0, 8.9, 8.9, 8.9, 8.8, 8.8, 8.8, 8.8, 8.8, 8.7, 8.7, 8.7, 8.6, 8.6, 8.6, 8.6, 8.6, 8.6, 8.6, 8.6, 8.6, 8.6, 8.5, 8.5, 8.5, 8.5, 8.5, 8.5, 8.5, 8.5, 8.5, 8.5, 8.5, 8.5, 8.5, 8.5, 8.5, 8.5, 8.5, 8.5, 8.5, 8.5, 8.5, 8.5, 8.4, 8.4, 8.4, 8.4, 8.4, 8.4, 8.4, 8.4, 8.4, 8.4, 8.4, 8.4, 8.4, 8.4, 8.4, 8.4, 8.4, 8.4, 8.4, 8.4, 8.4, 8.4, 8.3, 8.3, 8.3, 8.3, 8.3, 8.3, 8.3, 8.3, 8.3, 8.3, 8.3, 8.3, 8.3, 8.3, 8.3, 8.3, 8.3, 8.3, 8.3, 8.3, 8.3, 8.3, 8.3, 8.3, 8.3, 8.3, 8.3, 8.3, 8.3, 8.3, 8.2, 8.2, 8.2, 8.2, 8.2, 8.2, 8.2, 8.2, 8.2, 8.2, 8.2, 8.2, 8.2, 8.2, 8.2, 8.2, 8.2, 8.2, 8.2, 8.2, 8.2, 8.2, 8.2, 8.2, 8.2, 8.2, 8.2, 8.2, 8.2, 8.2, 8.2, 8.2, 8.2, 8.2, 8.2, 8.2, 8.2, 8.2, 8.2, 8.2, 8.2, 8.2, 8.2, 8.2, 8.2, 8.1, 8.1, 8.1, 8.1, 8.1, 8.1, 8.1, 8.1, 8.1, 8.1, 8.1, 8.1, 8.1, 8.1, 8.1, 8.1, 8.1, 8.1, 8.1, 8.1, 8.1, 8.1, 8.1, 8.1, 8.1, 8.1, 8.1, 8.1, 8.1, 8.1, 8.1, 8.1, 8.1, 8.1, 8.1, 8.1, 8.1, 8.1, 8.1, 8.1, 8.1, 8.1, 8.1, 8.1, 8.1, 8.1, 8.1, 8.1, 8.1, 8.1, 8.1, 8.1, 8.1, 8.1, 8.1, 8.1, 8.1, 8.1, 8.1, 8.1, 8.1, 8.1, 8.1, 8.1, 8.1, 8.1, 8.1, 8.1, 8.1, 8.1, 8.1, 8.1, 8.0, 8.0, 8.0, 8.0, 8.0, 8.0, 8.0, 8.0, 8.0, 8.0, 8.0, 8.0, 8.0, 8.0, 8.0, 8.0, 8.0, 8.0, 8.0, 8.0, 8.0, 8.0, 8.0, 8.0, 8.0, 8.0, 8.0, 8.0, 8.0, 8.0, 8.0, 8.0, 8.0, 8.0]\n",
      "['The Shawshank Redemption', 'The Godfather', 'The Godfather: Part II', 'The Dark Knight', '12 Angry Men', \"Schindler's List\", 'The Lord of the Rings: The Return of the King', 'Pulp Fiction', 'The Good, the Bad and the Ugly', 'The Lord of the Rings: The Fellowship of the Ring', 'Fight Club', 'Forrest Gump', 'Inception', 'Star Wars: Episode V - The Empire Strikes Back', 'The Lord of the Rings: The Two Towers', 'The Matrix', 'Goodfellas', \"One Flew Over the Cuckoo's Nest\", 'Seven Samurai', 'Se7en', 'Life Is Beautiful', 'City of God', 'The Silence of the Lambs', \"It's a Wonderful Life\", 'Star Wars: Episode IV - A New Hope', 'Saving Private Ryan', 'Spirited Away', 'Parasite', 'The Green Mile', 'Interstellar', 'Léon: The Professional', 'The Usual Suspects', 'Harakiri', 'The Lion King', 'The Pianist', 'Back to the Future', 'American History X', 'Terminator 2: Judgment Day', 'Modern Times', 'Psycho', 'Gladiator', 'City Lights', 'The Departed', 'The Intouchables', 'Whiplash', 'The Prestige', 'Once Upon a Time in the West', 'Grave of the Fireflies', 'Casablanca', 'Rear Window', 'Cinema Paradiso', 'Alien', 'Apocalypse Now', 'Memento', 'Joker', 'Raiders of the Lost Ark', 'The Great Dictator', 'The Lives of Others', 'Django Unchained', 'Paths of Glory', 'The Shining', 'WALL·E', 'Avengers: Infinity War', 'Sunset Blvd.', 'Princess Mononoke', 'Spider-Man: Into the Spider-Verse', 'Dr. Strangelove or: How I Learned to Stop Worrying and Love the Bomb', 'Oldboy', 'Witness for the Prosecution', 'The Dark Knight Rises', 'Avengers: Endgame', 'Once Upon a Time in America', 'Aliens', 'Your Name.', 'Coco', 'American Beauty', 'Braveheart', 'Das Boot', '3 Idiots', 'Toy Story', 'High and Low', 'Like Stars on Earth', 'Amadeus', 'Star Wars: Episode VI - Return of the Jedi', 'Reservoir Dogs', 'Inglourious Basterds', 'Good Will Hunting', '1917', '2001: A Space Odyssey', 'Vertigo', 'Requiem for a Dream', 'Capernaum', 'M', 'Dangal', 'Anand', 'Eternal Sunshine of the Spotless Mind', 'Citizen Kane', 'The Hunt', 'Full Metal Jacket', 'Bicycle Thieves', 'North by Northwest', 'A Clockwork Orange', 'The Kid', 'Snatch', \"Singin' in the Rain\", 'Scarface', 'Taxi Driver', 'Amélie', 'Lawrence of Arabia', 'Toy Story 3', 'The Sting', 'Ikiru', 'Metropolis', 'A Separation', 'For a Few Dollars More', 'Double Indemnity', 'The Apartment', 'Incendies', 'To Kill a Mockingbird', 'Indiana Jones and the Last Crusade', 'Up', 'L.A. Confidential', 'Heat', 'Monty Python and the Holy Grail', 'Die Hard', 'Come and See', 'Rashomon', 'Yojimbo', 'Batman Begins', 'Green Book', 'Downfall', 'Children of Heaven', 'Unforgiven', 'Some Like It Hot', 'Ran', \"Howl's Moving Castle\", 'The Great Escape', 'A Beautiful Mind', 'All About Eve', 'Casino', \"Pan's Labyrinth\", 'The Wolf of Wall Street', 'The Secret in Their Eyes', 'My Neighbor Totoro', 'Lock, Stock and Two Smoking Barrels', 'Raging Bull', 'There Will Be Blood', 'The Treasure of the Sierra Madre', 'Judgment at Nuremberg', 'My Father and My Son', 'Three Billboards Outside Ebbing, Missouri', 'Dial M for Murder', 'The Gold Rush', 'Chinatown', 'V for Vendetta', 'No Country for Old Men', 'The Seventh Seal', 'Inside Out', 'Shutter Island', 'Warrior', 'The Elephant Man', 'Trainspotting', 'The Sixth Sense', 'The Thing', 'Jurassic Park', 'Gone with the Wind', 'Wild Strawberries', 'Room', 'Blade Runner', 'Finding Nemo', 'The Bridge on the River Kwai', 'The Truman Show', 'Stalker', 'Kill Bill: Vol. 1', 'Fargo', 'On the Waterfront', 'The Third Man', 'Gran Torino', 'Tokyo Story', 'The Deer Hunter', 'Memories of Murder', 'Wild Tales', 'Klaus', 'The Bandit', 'Andhadhun', 'Mary and Max', 'The Big Lebowski', 'In the Name of the Father', 'Gone Girl', 'Hacksaw Ridge', 'The Grand Budapest Hotel', 'Persona', 'Before Sunrise', 'To Be or Not to Be', 'Catch Me If You Can', 'Ford v Ferrari', 'The General', 'How to Train Your Dragon', 'Mr. Smith Goes to Washington', 'Sherlock Jr.', 'Prisoners', '12 Years a Slave', 'Mad Max: Fury Road', 'Barry Lyndon', 'Cool Hand Luke', 'Network', 'Stand by Me', 'The Wages of Fear', 'Million Dollar Baby', 'Into the Wild', \"Hachi: A Dog's Tale\", 'Ben-Hur', \"Monty Python's Life of Brian\", 'Platoon', 'Rush', 'Dead Poets Society', 'Harry Potter and the Deathly Hallows: Part 2', 'Logan', 'Andrei Rublev', 'The Passion of Joan of Arc', 'The 400 Blows', 'Hotel Rwanda', 'The Handmaiden', 'Amores Perros', 'Spotlight', 'Rang De Basanti', 'Nausicaä of the Valley of the Wind', 'Rocky', 'Rebecca', 'La Haine', 'Monsters, Inc.', 'Gangs of Wasseypur', 'Portrait of a Lady on Fire', 'It Happened One Night', 'In the Mood for Love', 'Before Sunset', 'Paris, Texas', 'The Help', 'The Invisible Guest', 'The Princess Bride', 'Drishyam', 'The Terminator', 'Hera Pheri', 'Fanny and Alexander', 'Throne of Blood', 'Aladdin', 'Tangerines', 'Three Colors: Red', 'PK', 'A Silent Voice: The Movie']\n",
      "['0111161', '0068646', '0071562', '0468569', '0050083', '0108052', '0167260', '0110912', '0060196', '0120737', '0137523', '0109830', '1375666', '0080684', '0167261', '0133093', '0099685', '0073486', '0047478', '0114369', '0118799', '0317248', '0102926', '0038650', '0076759', '0120815', '0245429', '6751668', '0120689', '0816692', '0110413', '0114814', '0056058', '0110357', '0253474', '0088763', '0120586', '0103064', '0027977', '0054215', '0172495', '0021749', '0407887', '1675434', '2582802', '0482571', '0064116', '0095327', '0034583', '0047396', '0095765', '0078748', '0078788', '0209144', '7286456', '0082971', '0032553', '0405094', '1853728', '0050825', '0081505', '0910970', '4154756', '0043014', '0119698', '4633694', '0057012', '0364569', '0051201', '1345836', '4154796', '0087843', '0090605', '5311514', '2380307', '0169547', '0112573', '0082096', '1187043', '0114709', '0057565', '0986264', '0086879', '0086190', '0105236', '0361748', '0119217', '8579674', '0062622', '0052357', '0180093', '8267604', '0022100', '5074352', '0066763', '0338013', '0033467', '2106476', '0093058', '0040522', '0053125', '0066921', '0012349', '0208092', '0045152', '0086250', '0075314', '0211915', '0056172', '0435761', '0070735', '0044741', '0017136', '1832382', '0059578', '0036775', '0053604', '1255953', '0056592', '0097576', '1049413', '0119488', '0113277', '0071853', '0095016', '0091251', '0042876', '0055630', '0372784', '6966692', '0363163', '0118849', '0105695', '0053291', '0089881', '0347149', '0057115', '0268978', '0042192', '0112641', '0457430', '0993846', '1305806', '0096283', '0120735', '0081398', '0469494', '0040897', '0055031', '0476735', '5027774', '0046912', '0015864', '0071315', '0434409', '0477348', '0050976', '2096673', '1130884', '1291584', '0080678', '0117951', '0167404', '0084787', '0107290', '0031381', '0050986', '3170832', '0083658', '0266543', '0050212', '0120382', '0079944', '0266697', '0116282', '0047296', '0041959', '1205489', '0046438', '0077416', '0353969', '3011894', '4729430', '0116231', '8108198', '0978762', '0118715', '0107207', '2267998', '2119532', '2278388', '0060827', '0112471', '0035446', '0264464', '1950186', '0017925', '0892769', '0031679', '0015324', '1392214', '2024544', '1392190', '0072684', '0061512', '0074958', '0092005', '0046268', '0405159', '0758758', '1028532', '0052618', '0079470', '0091763', '1979320', '0097165', '1201607', '3315342', '0060107', '0019254', '0053198', '0395169', '4016934', '0245712', '1895587', '0405508', '0087544', '0075148', '0032976', '0113247', '0198781', '1954470', '8613070', '0025316', '0118694', '0381681', '0087884', '1454029', '4857264', '0093779', '4430212', '0088247', '0242519', '0083922', '0050613', '0103639', '2991224', '0111495', '2338151', '5323662']\n"
     ]
    }
   ],
   "source": [
    "print(rating)\n",
    "print(title)\n",
    "print(id)"
   ]
  },
  {
   "cell_type": "code",
   "execution_count": 5,
   "metadata": {},
   "outputs": [
    {
     "data": {
      "text/html": [
       "<div>\n",
       "<style scoped>\n",
       "    .dataframe tbody tr th:only-of-type {\n",
       "        vertical-align: middle;\n",
       "    }\n",
       "\n",
       "    .dataframe tbody tr th {\n",
       "        vertical-align: top;\n",
       "    }\n",
       "\n",
       "    .dataframe thead th {\n",
       "        text-align: right;\n",
       "    }\n",
       "</style>\n",
       "<table border=\"1\" class=\"dataframe\">\n",
       "  <thead>\n",
       "    <tr style=\"text-align: right;\">\n",
       "      <th></th>\n",
       "      <th>name</th>\n",
       "      <th>movie id</th>\n",
       "      <th>movie rating</th>\n",
       "    </tr>\n",
       "  </thead>\n",
       "  <tbody>\n",
       "    <tr>\n",
       "      <th>0</th>\n",
       "      <td>The Shawshank Redemption</td>\n",
       "      <td>0111161</td>\n",
       "      <td>9.2</td>\n",
       "    </tr>\n",
       "    <tr>\n",
       "      <th>1</th>\n",
       "      <td>The Godfather</td>\n",
       "      <td>0068646</td>\n",
       "      <td>9.1</td>\n",
       "    </tr>\n",
       "    <tr>\n",
       "      <th>2</th>\n",
       "      <td>The Godfather: Part II</td>\n",
       "      <td>0071562</td>\n",
       "      <td>9.0</td>\n",
       "    </tr>\n",
       "    <tr>\n",
       "      <th>3</th>\n",
       "      <td>The Dark Knight</td>\n",
       "      <td>0468569</td>\n",
       "      <td>9.0</td>\n",
       "    </tr>\n",
       "    <tr>\n",
       "      <th>4</th>\n",
       "      <td>12 Angry Men</td>\n",
       "      <td>0050083</td>\n",
       "      <td>8.9</td>\n",
       "    </tr>\n",
       "    <tr>\n",
       "      <th>5</th>\n",
       "      <td>Schindler's List</td>\n",
       "      <td>0108052</td>\n",
       "      <td>8.9</td>\n",
       "    </tr>\n",
       "    <tr>\n",
       "      <th>6</th>\n",
       "      <td>The Lord of the Rings: The Return of the King</td>\n",
       "      <td>0167260</td>\n",
       "      <td>8.9</td>\n",
       "    </tr>\n",
       "    <tr>\n",
       "      <th>7</th>\n",
       "      <td>Pulp Fiction</td>\n",
       "      <td>0110912</td>\n",
       "      <td>8.8</td>\n",
       "    </tr>\n",
       "    <tr>\n",
       "      <th>8</th>\n",
       "      <td>The Good, the Bad and the Ugly</td>\n",
       "      <td>0060196</td>\n",
       "      <td>8.8</td>\n",
       "    </tr>\n",
       "    <tr>\n",
       "      <th>9</th>\n",
       "      <td>The Lord of the Rings: The Fellowship of the Ring</td>\n",
       "      <td>0120737</td>\n",
       "      <td>8.8</td>\n",
       "    </tr>\n",
       "  </tbody>\n",
       "</table>\n",
       "</div>"
      ],
      "text/plain": [
       "                                                name movie id  movie rating\n",
       "0                           The Shawshank Redemption  0111161           9.2\n",
       "1                                      The Godfather  0068646           9.1\n",
       "2                             The Godfather: Part II  0071562           9.0\n",
       "3                                    The Dark Knight  0468569           9.0\n",
       "4                                       12 Angry Men  0050083           8.9\n",
       "5                                   Schindler's List  0108052           8.9\n",
       "6      The Lord of the Rings: The Return of the King  0167260           8.9\n",
       "7                                       Pulp Fiction  0110912           8.8\n",
       "8                     The Good, the Bad and the Ugly  0060196           8.8\n",
       "9  The Lord of the Rings: The Fellowship of the Ring  0120737           8.8"
      ]
     },
     "execution_count": 5,
     "metadata": {},
     "output_type": "execute_result"
    }
   ],
   "source": [
    "dict = {'name':title, 'movie id':id, 'movie rating':rating}\n",
    "movie_df = pd.DataFrame(dict)\n",
    "movie_df.head(10)"
   ]
  },
  {
   "cell_type": "code",
   "execution_count": 6,
   "metadata": {
    "scrolled": true
   },
   "outputs": [
    {
     "data": {
      "text/plain": [
       "{'main': ['cast',\n",
       "  'genres',\n",
       "  'runtimes',\n",
       "  'countries',\n",
       "  'country codes',\n",
       "  'language codes',\n",
       "  'color info',\n",
       "  'aspect ratio',\n",
       "  'sound mix',\n",
       "  'box office',\n",
       "  'certificates',\n",
       "  'original air date',\n",
       "  'rating',\n",
       "  'votes',\n",
       "  'cover url',\n",
       "  'plot outline',\n",
       "  'languages',\n",
       "  'title',\n",
       "  'year',\n",
       "  'kind',\n",
       "  'directors',\n",
       "  'writers',\n",
       "  'producers',\n",
       "  'composers',\n",
       "  'cinematographers',\n",
       "  'editors',\n",
       "  'editorial department',\n",
       "  'casting directors',\n",
       "  'production designers',\n",
       "  'art directors',\n",
       "  'set decorators',\n",
       "  'costume designers',\n",
       "  'make up department',\n",
       "  'production managers',\n",
       "  'assistant directors',\n",
       "  'art department',\n",
       "  'sound department',\n",
       "  'special effects',\n",
       "  'visual effects',\n",
       "  'stunts',\n",
       "  'camera department',\n",
       "  'casting department',\n",
       "  'costume departmen',\n",
       "  'location management',\n",
       "  'music department',\n",
       "  'script department',\n",
       "  'transportation department',\n",
       "  'miscellaneous',\n",
       "  'thanks',\n",
       "  'akas',\n",
       "  'writer',\n",
       "  'director',\n",
       "  'top 250 rank',\n",
       "  'production companies',\n",
       "  'distributors',\n",
       "  'special effects companies',\n",
       "  'other companies'],\n",
       " 'plot': ['plot', 'synopsis']}"
      ]
     },
     "execution_count": 6,
     "metadata": {},
     "output_type": "execute_result"
    }
   ],
   "source": [
    "movie = ia.get_movie('0111161')\n",
    "movie.infoset2keys"
   ]
  },
  {
   "cell_type": "code",
   "execution_count": 7,
   "metadata": {},
   "outputs": [
    {
     "data": {
      "text/plain": [
       "{'taglines': ['taglines'], 'plot': ['plot', 'synopsis']}"
      ]
     },
     "execution_count": 7,
     "metadata": {},
     "output_type": "execute_result"
    }
   ],
   "source": [
    "movie_plot = ia.get_movie('0111161', info=['taglines', 'plot'])\n",
    "movie_plot.infoset2keys"
   ]
  },
  {
   "cell_type": "code",
   "execution_count": 8,
   "metadata": {},
   "outputs": [
    {
     "data": {
      "text/plain": [
       "'Two imprisoned men bond over a number of years, finding solace and eventual redemption through acts of common decency.::Carl Schultz'"
      ]
     },
     "execution_count": 8,
     "metadata": {},
     "output_type": "execute_result"
    }
   ],
   "source": [
    "movie_plot.get('plot')[0]"
   ]
  },
  {
   "cell_type": "code",
   "execution_count": 9,
   "metadata": {},
   "outputs": [
    {
     "name": "stdout",
     "output_type": "stream",
     "text": [
      "The Shawshank Redemption\n",
      "9.3\n"
     ]
    }
   ],
   "source": [
    "code = '0111161'\n",
    "series = ia.get_movie(code)\n",
    "rating = series.data['rating']\n",
    "print(series)\n",
    "print(rating)"
   ]
  },
  {
   "cell_type": "code",
   "execution_count": 10,
   "metadata": {},
   "outputs": [
    {
     "data": {
      "text/plain": [
       "'Two imprisoned men bond over a number of years, finding solace and eventual redemption through acts of common decency.::Carl Schultz'"
      ]
     },
     "execution_count": 10,
     "metadata": {},
     "output_type": "execute_result"
    }
   ],
   "source": [
    "plot = ia.get_movie('0111161')\n",
    "ia.get_movie('0111161').get('plot')[0]"
   ]
  },
  {
   "cell_type": "code",
   "execution_count": 11,
   "metadata": {},
   "outputs": [
    {
     "name": "stdout",
     "output_type": "stream",
     "text": [
      "['Two imprisoned men bond over a number of years, finding solace and eventual redemption through acts of common decency.::Carl Schultz', 'The aging patriarch of an organized crime dynasty transfers control of his clandestine empire to his reluctant son.::Carl Schultz', 'The early life and career of Vito Corleone in 1920s New York City is portrayed, while his son, Michael, expands and tightens his grip on the family crime syndicate.::Kenneth Chisholm', 'When the menace known as the Joker wreaks havoc and chaos on the people of Gotham, Batman must accept one of the greatest psychological and physical tests of his ability to fight injustice.::ahmetkozan', 'A jury holdout attempts to prevent a miscarriage of justice by forcing his colleagues to reconsider the evidence.::ahmetkozan', 'In German-occupied Poland during World War II, industrialist Oskar Schindler gradually becomes concerned for his Jewish workforce after witnessing their persecution by the Nazis.::Chris White', \"Gandalf and Aragorn lead the World of Men against Sauron's army to draw his gaze from Frodo and Sam as they approach Mount Doom with the One Ring.::ahmetkozan\", 'The lives of two mob hitmen, a boxer, a gangster and his wife, and a pair of diner bandits intertwine in four tales of violence and redemption.::ahmetkozan', 'A bounty hunting scam joins two men in an uneasy alliance against a third in a race to find a fortune in gold buried in a remote cemetery.::Helltopay27', 'A meek Hobbit from the Shire and eight companions set out on a journey to destroy the powerful One Ring and save Middle-earth from the Dark Lord Sauron.::Paul Twomey <toomsp@hotmail.com> and Brian McInnis', 'An insomniac office worker and a devil-may-care soapmaker form an underground fight club that evolves into something much, much more.::jrofficial and Joao Bravo', 'The presidencies of Kennedy and Johnson, the events of Vietnam, Watergate and other historical events unfold through the perspective of an Alabama man with an IQ of 75, whose only desire is to be reunited with his childhood sweetheart.::ahmetkozan', 'A thief who steals corporate secrets through the use of dream-sharing technology is given the inverse task of planting an idea into the mind of a C.E.O.::ahmetkozan', 'After the Rebels are brutally overpowered by the Empire on the ice planet Hoth, Luke Skywalker begins Jedi training with Yoda, while his friends are pursued by Darth Vader and a bounty hunter named Boba Fett all over the galaxy.::Trance & Travis Brainerd', \"While Frodo and Sam edge closer to Mordor with the help of the shifty Gollum, the divided fellowship makes a stand against Sauron's new ally, Saruman, and his hordes of Isengard.::Trance\", 'A computer hacker learns from mysterious rebels about the true nature of his reality and his role in the war against its controllers.::Kenneth Chisholm', 'The story of Henry Hill and his life in the mob, covering his relationship with his wife Karen Hill and his mob partners Jimmy Conway and Tommy DeVito in the Italian-American crime syndicate.::paulrichard', 'A criminal pleads insanity and is admitted to a mental institution, where he rebels against the oppressive nurse and rallies up the scared patients.::ahmetkozan', 'A poor village under attack by bandits recruits seven unemployed samurai to help them defend themselves.::Jon Reeves <jreeves@imdb.com>', 'Two detectives, a rookie and a veteran, hunt a serial killer who uses the seven deadly sins as his motives.::ahmetkozan', 'When an open-minded Jewish librarian and his son become victims of the Holocaust, he uses a perfect mixture of will, humor, and imagination to protect his son from the dangers around their camp.::J. S. Golden', \"In the slums of Rio, two kids' paths diverge as one struggles to become a photographer and the other a kingpin.::pyukumuku\", 'A young F.B.I. cadet must receive the help of an incarcerated and manipulative cannibal killer to help catch another serial killer, a madman who skins his victims.::Helltopay27', 'An angel is sent from Heaven to help a desperately frustrated businessman by showing him what life would have been like if he had never existed.::Kenneth Chisholm', \"Luke Skywalker joins forces with a Jedi Knight, a cocky pilot, a Wookiee and two droids to save the galaxy from the Empire's world-destroying battle station, while also attempting to rescue Princess Leia from the mysterious Darth Vader.::Trance\", 'Following the Normandy Landings, a group of U.S. soldiers go behind enemy lines to retrieve a paratrooper whose brothers have been killed in action.::Chris White', \"During her family's move to the suburbs, a sullen 10-year-old girl wanders into a world ruled by gods, witches, and spirits, and where humans are changed into beasts.::Anonymous\", 'Greed and class discrimination threaten the newly formed symbiotic relationship between the wealthy Park family and the destitute Kim clan.::Jwelch5742', 'The lives of guards on Death Row are affected by one of their charges: a black man accused of child murder and rape, yet who has a mysterious gift.::Chris White', \"A team of explorers travel through a wormhole in space in an attempt to ensure humanity's survival.::Anonymous\", \"Mathilda, a 12-year-old girl, is reluctantly taken in by Léon, a professional assassin, after her family is murdered. An unusual relationship forms as she becomes his protégée and learns the assassin's trade.::Movie Guy\", 'A sole survivor tells of the twisty events leading up to a horrific gun battle on a boat, which began when five criminals met at a seemingly random police lineup.::Skip_4591', \"When a ronin requesting seppuku at a feudal lord's palace is told of the brutal suicide of another ronin who previously visited, he reveals how their pasts are intertwined - and in doing so challenges the clan's integrity.::Daniel Jos. Leary\", \"A lion cub prince is tricked by a treacherous uncle into thinking he caused his father's death and flees into exile in despair, only to later accept in adulthood his identity and his responsibilities.::Kenneth Chisholm\", 'A Polish Jewish musician struggles to survive the destruction of the Warsaw ghetto of World War II.::Kenneth Chisholm', 'Marty McFly, a 17-year-old high school student, is accidentally sent thirty years into the past in a time-traveling DeLorean invented by his close friend, the eccentric scientist Doc Brown.::Anonymous', 'A former neo-nazi skinhead tries to prevent his younger brother from going down the same wrong path that he did.::<jarls@datasync.com>', 'A cyborg, identical to the one who failed to kill Sarah Connor, must now protect her teenage son, John Connor, from a more advanced and powerful cyborg.::PaulRichard', 'The Tramp struggles to live in modern industrial society with the help of a young homeless woman.::Anonymous', \"A Phoenix secretary embezzles forty thousand dollars from her employer's client, goes on the run, and checks into a remote motel run by a young man under the domination of his mother.\", 'A former Roman General sets out to exact vengeance against the corrupt emperor who murdered his family and sent him into slavery.::Noah Orent', 'With the aid of a wealthy erratic tippler, a dewy-eyed tramp who has fallen in love with a sightless flower girl accumulates money to be able to help her medically.::J. S. Golden', 'An undercover cop and a mole in the police attempt to identify each other while infiltrating an Irish gang in South Boston.::ahmetkozan', 'After he becomes a quadriplegic from a paragliding accident, an aristocrat hires a young man from the projects to be his caregiver.::IMDb Editors', \"A promising young drummer enrolls at a cut-throat music conservatory where his dreams of greatness are mentored by an instructor who will stop at nothing to realize a student's potential.::Anonymous\", 'After a tragic accident, two stage magicians engage in a battle to create the ultimate illusion while sacrificing everything they have to outwit each other.::ahmetkozan', 'A mysterious stranger with a harmonica joins forces with a notorious desperado to protect a beautiful widow from a ruthless assassin working for the railroad.', 'A young boy and his little sister struggle to survive in Japan during World War II.', 'A cynical American expatriate struggles to decide whether or not he should help his former lover and her fugitive husband escape French Morocco.::Noah Orent', 'A wheelchair-bound photographer spies on his neighbors from his apartment window and becomes convinced one of them has committed murder.::Col Needham <cn@imdb.com>', \"A filmmaker recalls his childhood when falling in love with the pictures at the cinema of his home village and forms a deep friendship with the cinema's projectionist.\", 'After a space merchant vessel receives an unknown transmission as a distress call, one of the crew is attacked by a mysterious life form and they soon realize that its life cycle has merely begun.::dimakorou', 'A U.S. Army officer serving in Vietnam is tasked with assassinating a renegade Special Forces Colonel who sees himself as a god.::Noah Orent', \"A man with short-term memory loss attempts to track down his wife's murderer.::Noah Orent\", 'In Gotham City, mentally troubled comedian Arthur Fleck is disregarded and mistreated by society. He then embarks on a downward spiral of revolution and bloody crime. This path brings him face-to-face with his alter-ego: the Joker.::Don Draper 101', \"In 1936, archaeologist and adventurer Indiana Jones is hired by the U.S. government to find the Ark of the Covenant before Adolf Hitler's Nazis can obtain its awesome powers.::Colin Tinto <cst@imdb.com>\", \"Dictator Adenoid Hynkel tries to expand his empire while a poor Jewish barber tries to avoid persecution from Hynkel's regime.::Anonymous\", 'In 1984 East Berlin, an agent of the secret police, conducting surveillance on a writer and his lover, finds himself becoming increasingly absorbed by their lives.::Shannon Patrick Sullivan <shannon@mun.ca>', 'With the help of a German bounty hunter, a freed slave sets out to rescue his wife from a brutal Mississippi plantation owner.::Anonymous and Brian McInnis', 'After refusing to attack an enemy position, a general accuses the soldiers of cowardice and their commanding officer must defend them.', 'A family heads to an isolated hotel for the winter where a sinister presence influences the father into violence, while his psychic son sees horrific forebodings from both past and future.::Helltopay27', 'In the distant future, a small waste-collecting robot inadvertently embarks on a space journey that will ultimately decide the fate of mankind.::tb4000', 'The Avengers and their allies must be willing to sacrifice all in an attempt to defeat the powerful Thanos before his blitz of devastation and ruin puts an end to the universe.::ahmetkozan', 'A screenwriter develops a dangerous relationship with a faded film star determined to make a triumphant return.::Noah Orent', \"On a journey to find the cure for a Tatarigami's curse, Ashitaka finds himself in the middle of a war between the forest gods and Tatara, a mining colony. In this quest he also meets San, the Mononoke Hime.::Shadowdancer21b\", 'Teen Miles Morales becomes Spider-Man of his reality, crossing his path with five counterparts from other dimensions to stop a threat for all realities.::Chockys', 'An insane general triggers a path to nuclear holocaust that a War Room full of politicians and generals frantically tries to stop.', 'After being kidnapped and imprisoned for fifteen years, Oh Dae-Su is released, only to find that he must find his captor in five days.', 'A veteran British barrister must defend his client in a murder trial that has surprise after surprise.::Kenneth Chisholm', \"Eight years after the Joker's reign of anarchy, Batman, with the help of the enigmatic Catwoman, is forced from his exile to save Gotham City from the brutal guerrilla terrorist Bane.::Paulrichard\", \"After the devastating events of Avengers: Infinity War (2018), the universe is in ruins. With the help of remaining allies, the Avengers assemble once more in order to reverse Thanos' actions and restore balance to the universe.\", 'A former Prohibition-era Jewish gangster returns to the Lower East Side of Manhattan over thirty years later, where he once again must confront the ghosts and regrets of his old life.::wsjacobs@gmail.com', 'Ellen Ripley is rescued by a deep salvage team after being in hypersleep for 57 years. The moon that the Nostromo visited has been colonized, but contact is lost. This time, colonial marines have impressive firepower, but will that be enough?::dimakorou', 'Two strangers find themselves linked in a bizarre way. When a connection forms, will distance be the only thing to keep them apart?::Funimation', \"Aspiring musician Miguel, confronted with his family's ancestral ban on music, enters the Land of the Dead to find his great-great-grandfather, a legendary singer.::Disney/Pixar\", \"A sexually frustrated suburban father has a mid-life crisis after becoming infatuated with his daughter's best friend.::ahmetkozan\", 'When his secret bride is executed for assaulting an English soldier who tried to rape her, William Wallace begins a revolt against King Edward I of England.::Daniel Williamson', 'The claustrophobic world of a WWII German U-boat; boredom, filth and sheer terror.::Jon Reeves <jreeves@imdb.com>', 'Two friends are searching for their long lost companion. They revisit their college days and recall the memories of their friend who inspired them to think differently, even as the rest of the world called them \"idiots\".::bane', \"A cowboy doll is profoundly threatened and jealous when a new spaceman figure supplants him as top toy in a boy's room.::Kenneth Chisholm\", \"An executive of a shoe company becomes a victim of extortion when his chauffeur's son is kidnapped and held for ransom.::duke1029@aol.com\", 'An eight-year-old boy is thought to be a lazy trouble-maker, until the new art teacher has the patience and compassion to discover the real problem behind his struggles in school.::L. Hamre', \"The life, success and troubles of Wolfgang Amadeus Mozart, as told by Antonio Salieri, the contemporaneous composer who was insanely jealous of Mozart's talent and claimed to have murdered him.\", \"After a daring mission to rescue Han Solo from Jabba the Hutt, the Rebels dispatch to Endor to destroy the second Death Star. Meanwhile, Luke struggles to help Darth Vader back from the dark side without falling into the Emperor's trap.::Tom Benton & Travis Brainerd\", 'When a simple jewelry heist goes horribly wrong, the surviving criminals begin to suspect that one of them is a police informant.::grantss', \"In Nazi-occupied France during World War II, a plan to assassinate Nazi leaders by a group of Jewish U.S. soldiers coincides with a theatre owner's vengeful plans for the same.::Brian McInnis\", 'Will Hunting, a janitor at M.I.T., has a gift for mathematics, but needs help from a psychologist to find direction in his life.::Colin Tinto <cst@imdb.com>', 'April 6th, 1917. As a regiment assembles to wage war deep in enemy territory, two soldiers are assigned to race against time and deliver a message that will stop 1,600 men from walking straight into a deadly trap.::vsuperkuns', 'After discovering a mysterious artifact buried beneath the Lunar surface, mankind sets off on a quest to find its origins with help from intelligent supercomputer H.A.L. 9000.::Johnny', 'A former police detective juggles wrestling with his personal demons and becoming obsessed with a hauntingly beautiful woman.::Noah Orent', 'The drug-induced utopias of four Coney Island people are shattered when their addictions run deep.::someguy', 'While serving a five-year sentence for a violent crime, a 12-year-old boy sues his parents for neglect.', 'When the police in a German city are unable to catch a child-murderer, other criminals join in the manhunt.::Anonymous', 'Former wrestler Mahavir Singh Phogat and his two wrestler daughters struggle towards glory at the Commonwealth Games in the face of societal oppression.::Ishaan Gulati', 'The story of a terminally ill man who wishes to live life to the fullest before the inevitable occurs, as told by his best friend.::Q. Leo Rahman', 'When their relationship turns sour, a couple undergoes a medical procedure to have each other erased from their memories.::Sarah McAuley', \"Following the death of publishing tycoon Charles Foster Kane, reporters scramble to uncover the meaning of his final utterance; 'Rosebud'.::Carl Schultz\", \"A teacher lives a lonely life, all the while struggling over his son's custody. His life slowly gets better as he finds love and receives good news from his son, but his new luck is about to be brutally shattered by an innocent little lie.::Iris\", 'A pragmatic U.S. Marine observes the dehumanizing effects the Vietnam War has on his fellow recruits from their brutal boot camp training to the bloody street fighting in Hue.::matt-282', \"In post-war Italy, a working-class man's bicycle is stolen. He and his son set out to find it.\", 'A New York City advertising executive goes on the run after being mistaken for a government agent by a group of foreign spies.::Kenneth Chisholm', \"In the future, a sadistic gang leader is imprisoned and volunteers for a conduct-aversion experiment, but it doesn't go as planned.::Will S\", 'The Tramp cares for an abandoned child, but events put that relationship in jeopardy.::Kenneth Chisholm', 'Unscrupulous boxing promoters, violent bookmakers, a Russian gangster, incompetent amateur robbers and supposedly Jewish jewelers fight to track down a priceless stolen diamond.::<jgp3553@excite.com>', 'A silent film production company and cast make a difficult transition to sound.::Anonymous', 'In 1980 Miami, a determined Cuban immigrant takes over a drug cartel and succumbs to greed.::mgx', 'A mentally unstable veteran works as a nighttime taxi driver in New York City, where the perceived decadence and sleaze fuels his urge for violent action by attempting to liberate a presidential campaign worker and an underage prostitute.::Kenneth Chisholm', 'Amélie is an innocent and naive girl in Paris with her own sense of justice. She decides to help those around her and, along the way, discovers love.', 'The story of T.E. Lawrence, the English officer who successfully united and led the diverse, often warring, Arab tribes during World War I in order to fight the Turks.::grantss', \"The toys are mistakenly delivered to a day-care center instead of the attic right before Andy leaves for college, and it's up to Woody to convince the other toys that they weren't abandoned and to return home.::jgp3553@yahoo.com\", 'Two grifters team up to pull off the ultimate con.::grantss', 'A bureaucrat tries to find a meaning in his life after he discovers he has terminal cancer.::rgoes', \"In a futuristic city sharply divided between the working class and the city planners, the son of the city's mastermind falls in love with a working class prophet who predicts the coming of a savior to mediate their differences.::jgp3553@yahoo.com\", \"A married couple are faced with a difficult decision - to improve the life of their child by moving to another country or to stay in Iran and look after a deteriorating parent who has Alzheimer's disease.::Anonymous\", 'Two bounty hunters with the same intentions team up to track down a Western outlaw.::<jgp3553@excite.com>', 'An insurance representative lets himself be talked by a seductive housewife into a murder/insurance fraud scheme that arouses the suspicion of an insurance investigator.', 'A man tries to rise in his company by letting its executives use his apartment for trysts, but complications and a romance of his own ensue.::Anonymous', \"Twins journey to the Middle East to discover their family history and fulfill their mother's last wishes.::Anonymous\", 'Atticus Finch, a lawyer in the Depression-era South, defends a black man against an undeserved rape charge, and his children against prejudice.::Jon Reeves <jreeves@imdb.com>', 'In 1938, after his father Professor Henry Jones, Sr. goes missing while pursuing the Holy Grail, Professor Henry \"Indiana\" Jones, Jr. finds himself up against Adolf Hitler\\'s Nazis again to stop them from obtaining its powers.::Tomius J. Barnard and assmn316', '78-year-old Carl Fredricksen travels to Paradise Falls in his house equipped with balloons, inadvertently taking a young stowaway.::Anonymous Man', 'As corruption grows in 1950s Los Angeles, three policemen - one strait-laced, one brutal, and one sleazy - investigate a series of murders with their own brand of justice.::Trance', 'A group of professional bank robbers start to feel the heat from police when they unknowingly leave a clue at their latest heist.::Daniel Jos. Leary', 'King Arthur (Graham Chapman) and his Knights of the Round Table embark on a surreal, low-budget search for the Holy Grail, encountering many, very silly obstacles.::Jon Reeves <jreeves@imdb.com>', 'An NYPD officer tries to save his wife and several others taken hostage by German terrorists during a Christmas party at the Nakatomi Plaza in Los Angeles.::vsuperkuns', 'After finding an old rifle, a young boy joins the Soviet resistance movement against ruthless German forces and experiences the horrors of World War II.::Karl Krejci', \"The rape of a bride and the murder of her samurai husband are recalled from the perspectives of a bandit, the bride, the samurai's ghost and a woodcutter.::Eugene Kim <genekim@concentric.net>\", 'A crafty ronin comes to a town divided by two criminal gangs and decides to play them against each other to free the town.::Kenneth Chisholm', 'After training with his mentor, Batman begins his fight to free crime-ridden Gotham City from corruption.::paulrichard', 'A working-class Italian-American bouncer becomes the driver of an African-American classical pianist on a tour of venues through the 1960s American South.', \"Traudl Junge, the final secretary for Adolf Hitler, tells of the Nazi dictator's final days in his Berlin bunker at the end of WWII.::IMDb Editors\", 'After a boy loses his sister\\'s pair of shoes, he goes on a series of adventures in order to find them. When he can\\'t, he tries a new way to \"win\" a new pair.::J. S. Golden', 'Retired Old West gunslinger William Munny (Clint Eastwood) reluctantly takes on one last job, with the help of his old partner Ned Logan (Morgan Freeman) and a young man, The \"Schofield Kid\" (Jaimz Woolvett).::Jon Reeves <jreeves@imdb.com>', 'After two male musicians witness a mob hit, they flee the state in an all-female band disguised as women, but further complications set in.::Kenneth Chisholm', 'In Medieval Japan, an elderly warlord retires, handing over his empire to his three sons. However, he vastly underestimates how the new-found power will corrupt them and cause them to turn on each other...and him.::grantss', 'When an unconfident young woman is cursed with an old body by a spiteful witch, her only chance of breaking the spell lies with a self-indulgent yet insecure young wizard and his companions in his legged, walking castle.::Kenneth Chisholm', 'Allied prisoners of war plan for several hundred of their number to escape from a German camp during World War II.::Chris White', 'After John Nash, a brilliant but asocial mathematician, accepts secret work in cryptography, his life takes a turn for the nightmarish.::ahmetkozan', 'A seemingly timid but secretly ruthless ingénue insinuates herself into the lives of an aging Broadway star and her circle of theater friends.::LVJeff', 'A tale of greed, deception, money, power, and murder occur between two best friends: a mafia enforcer and a casino executive, compete against each other over a gambling empire, and over a fast living and fast loving socialite.::paulrichard and assmn316', 'In the Falangist Spain of 1944, the bookish young stepdaughter of a sadistic army officer escapes into an eerie but captivating fantasy world.::Shannon Patrick Sullivan <shannon@mun.ca>', 'Based on the true story of Jordan Belfort, from his rise to a wealthy stock-broker living the high life to his fall involving crime, corruption and the federal government.::mystic80', 'A retired legal counselor writes a novel hoping to find closure for one of his past unresolved homicide cases and for his unreciprocated love with his superior - both of which still haunt him decades later.::Anonymous', 'When two girls move to the country to be near their ailing mother, they have adventures with the wondrous forest spirits who live nearby.::Kenneth Chisholm', 'A botched card game in London triggers four friends, thugs, weed-growers, hard gangsters, loan sharks and debt collectors to collide with each other in a series of unexpected events, all for the sake of weed, cash and two antique shotguns.::filipfilipovich@hotmail.com', 'The life of boxer Jake LaMotta, whose violence and temper that led him to the top in the ring destroyed his life outside of it.::bdsproductons', 'A story of family, religion, hatred, oil and madness, focusing on a turn-of-the-century prospector in the early days of the business.::Anonymous and Brian McInnis', 'Two Americans searching for work in Mexico convince an old prospector to help them mine for gold in the Sierra Madre Mountains.::Karl Krejci', 'In 1948, an American court in occupied Germany tries four Nazis judged for war crimes.::Mark Logan <marklo@west.sun.com>', 'The family of a left-wing journalist is torn apart after the military coup of Turkey in 1980.::TheMobster1995', \"A mother personally challenges the local authorities to solve her daughter's murder when they fail to catch the culprit.::Fox Searchlight Pictures\", \"A tennis player tries to arrange his wife's murder after learning of her affair.::Lila Tov\", 'A prospector goes to the Klondike in search of gold and finds it and more.::Anonymous', 'A private detective hired to expose an adulterer finds himself caught up in a web of deceit, corruption, and murder.::Anonymous', 'In a future British tyranny, a shadowy freedom fighter, known only by the alias of \"V\", plots to overthrow it with the help of a young woman.::Kenneth Chisholm', 'Violence and mayhem ensue after a hunter stumbles upon a drug deal gone wrong and more than two million dollars in cash near the Rio Grande.::IMDb Editor', 'A man seeks answers about life, death, and the existence of God as he plays chess against the Grim Reaper during the Black Plague.::Joa', 'After young Riley is uprooted from her Midwest life and moved to San Francisco, her emotions - Joy, Fear, Anger, Disgust and Sadness - conflict on how best to navigate a new city, house, and school.::Anonymous', 'In 1954, a U.S. Marshal investigates the disappearance of a murderer who escaped from a hospital for the criminally insane.::ahmetkozan', \"The youngest son of an alcoholic former boxer returns home, where he's trained by his father for competition in a mixed martial arts tournament - a path that puts the fighter on a collision course with his estranged, older brother.::Anonymous\", 'A Victorian surgeon rescues a heavily disfigured man who is mistreated while scraping a living as a side-show freak. Behind his monstrous façade, there is revealed a person of kindness, intelligence and sophistication.::Chris White', 'Renton, deeply immersed in the Edinburgh drug scene, tries to clean up and get out, despite the allure of the drugs and influence of friends.::Jon Reeves <jreeves@imdb.com>', 'A boy who communicates with spirits seeks the help of a disheartened child psychologist.::Mystic80', 'A research team in Antarctica is hunted by a shape-shifting alien that assumes the appearance of its victims.::ahmetkozan', \"A pragmatic paleontologist visiting an almost complete theme park is tasked with protecting a couple of kids after a power failure causes the park's cloned dinosaurs to run loose.::steven-espinoza21\", 'A manipulative woman and a roguish man conduct a turbulent romance during the American Civil War and Reconstruction periods.::Carl Schultz', 'After living a life marked by coldness, an aging professor is forced to confront the emptiness of his existence.::Eugene Kim <genekim@concentric.net>', 'Held captive for 7 years in an enclosed space, a woman and her young son finally gain their freedom, allowing the boy to experience the outside world for the first time.::Jwelch5742', 'A blade runner must pursue and terminate four replicants who stole a ship in space, and have returned to Earth to find their creator.::Colin Tinto <cst@imdb.com>', 'After his son is captured in the Great Barrier Reef and taken to Sydney, a timid clownfish sets out on a journey to bring him home.::Chris White', 'British POWs are forced to build a railway bridge across the river Kwai for their Japanese captors, not knowing that the allied forces are planning to destroy it.::Chris White', 'An insurance salesman discovers his whole life is actually a reality TV show.::BCDavis <wdavis@netins.net>', 'A guide leads two men through an area known as the Zone to find a room that grants wishes.::Karl Krejci', 'After awakening from a four-year coma, a former assassin wreaks vengeance on the team of assassins who betrayed her.::Qrrbirbel and Brian McInnis', \"Jerry Lundegaard's inept crime falls apart due to his and his henchmen's bungling and the persistent police work of the quite pregnant Marge Gunderson.::Jon Reeves <jreeves@imdb.com>\", 'An ex-prize fighter turned longshoreman struggles to stand up to his corrupt union bosses.::jgp3553', 'Pulp novelist Holly Martins travels to shadowy, postwar Vienna, only to find himself investigating the mysterious death of an old friend, Harry Lime.::Anonymous', \"Disgruntled Korean War veteran Walt Kowalski sets out to reform his neighbor, Thao Lor, a Hmong teenager who tried to steal Kowalski's prized possession: a 1972 Gran Torino.\", 'An old couple visit their children and grandchildren in the city, but receive little attention.::J. Spurlin', 'An in-depth examination of the ways in which the U.S. Vietnam War impacts and disrupts the lives of people in a small industrial town in Pennsylvania.::Murray Chapman <muzzle@imdb.com>', 'In a small Korean province in 1986, two detectives struggle with the case of multiple young women being found raped and murdered by an unknown culprit.::Samovarkov', 'Six short stories that explore the extremities of human behavior involving people in distress.', \"A simple act of kindness always sparks another, even in a frozen, faraway place. When Smeerensburg's new postman, Jesper, befriends toymaker Klaus, their gifts melt an age-old feud and deliver a sleigh full of holiday traditions.::Netflix\", 'Baran the Bandit, released from prison after 35 years, searches for vengeance and his lover.', 'A series of mysterious events change the life of a blind pianist, who must now report a crime that he should technically know nothing of.::Santhosh', 'A tale of friendship between two unlikely pen pals: Mary, a lonely, eight-year-old girl living in the suburbs of Melbourne, and Max, a forty-four-year old, severely obese man living in New York.::Anonymous', 'Jeff \"The Dude\" Lebowski, mistaken for a millionaire of the same name, seeks restitution for his ruined rug and enlists his bowling buddies to help get it.::Jon Reeves <jreeves@imdb.com>', \"A man's coerced confession to an I.R.A. bombing he did not commit results in the imprisonment of his father as well. An English lawyer fights to free them.::Jon Reeves <jreeves@imdb.com>\", \"With his wife's disappearance having become the focus of an intense media circus, a man sees the spotlight turned on him when it's suspected that he may not be innocent.::mystic80\", 'World War II American Army Medic Desmond T. Doss, who served during the Battle of Okinawa, refuses to kill people, and becomes the first man in American history to receive the Medal of Honor without firing a shot.::bravomailer', \"A writer encounters the owner of an aging high-class hotel, who tells him of his early years serving as a lobby boy in the hotel's glorious years under an exceptional concierge.::Fox Searchlight Pictures / marianoandres\", 'A nurse is put in charge of a mute actress and finds that their personae are melding together.::Mathew Buck', 'A young man and woman meet on a train in Europe, and wind up spending one evening together in Vienna. Unfortunately, both know that this will probably be their only night together.::jgp3553@yahoo.com', \"During the Nazi occupation of Poland, an acting troupe becomes embroiled in a Polish soldier's efforts to track down a German spy.::Shannon Patrick Sullivan <shannon@mun.ca>\", \"A seasoned FBI agent pursues Frank Abagnale Jr. who, before his 19th birthday, successfully forged millions of dollars' worth of checks while posing as a Pan Am pilot, a doctor, and a legal prosecutor.::ahmetkozan\", 'American car designer Carroll Shelby and driver Ken Miles battle corporate interference and the laws of physics to build a revolutionary race car for Ford in order to defeat Ferrari at the 24 Hours of Le Mans in 1966.::Fox', \"When Union spies steal an engineer's beloved locomotive, he pursues it single-handedly and straight through enemy lines.::Kenneth Chisholm <kchishol@mnsi.net>\", 'A hapless young Viking who aspires to hunt dragons becomes the unlikely friend of a young dragon himself, and learns there may be more to the creatures than he assumed.::tb4000', \"A naive man is appointed to fill a vacancy in the United States Senate. His plans promptly collide with political corruption, but he doesn't back down.\", \"A film projectionist longs to be a detective, and puts his meagre skills to work when he is framed by a rival for stealing his girlfriend's father's pocketwatch.::Shannon Patrick Sullivan <shannon@mun.ca>\", \"When Keller Dover's daughter and her friend go missing, he takes matters into his own hands as the police pursue multiple leads and the pressure mounts.::Anonymous\", 'In the antebellum United States, Solomon Northup, a free black man from upstate New York, is abducted and sold into slavery.::Fox Searchlight', 'In a post-apocalyptic wasteland, a woman rebels against a tyrannical ruler in search for her homeland with the aid of a group of female prisoners, a psychotic worshiper, and a drifter named Max.::Matthew Trahan', \"An Irish rogue wins the heart of a rich widow and assumes her dead husband's aristocratic position in 18th-century England.::Anonymous\", 'A laid back Southern man is sentenced to two years in a rural prison, but refuses to conform.', \"A television network cynically exploits a deranged former anchor's ravings and revelations about the news media for its own profit.::Kenneth Chisholm <kchishol@mnsi.net> and Brian McInnis\", 'After the death of one of his friends, a writer recounts a childhood journey with his friends to find the body of a missing boy.::lisakoffler1967@gmail.com', 'A determined woman works with a hardened boxing trainer to become a professional.::Anonymous', 'In a decrepit South American village, four men are hired to transport an urgent nitroglycerine shipment without the equipment that would make it safe.::Anonymous', 'After graduating from Emory University, top student and athlete Christopher McCandless abandons his possessions, gives his entire $24,000 savings account to charity and hitchhikes to Alaska to live in the wilderness. Along the way, Christopher encounters a series of characters that shape his life.::Paramount Vantage', 'A college professor bonds with an abandoned dog he takes into his home.::Anonymous', 'After a Jewish prince is betrayed and sent into slavery by a Roman friend, he regains his freedom and comes back for revenge.::Kenneth Chisholm', 'Born on the original Christmas in the stable next door to Jesus Christ, Brian of Nazareth spends his life being mistaken for a messiah.::Jon Reeves <jreeves@imdb.com>', 'A young soldier in Vietnam faces a moral crisis when confronted with the horrors of war and the duality of man.::Oliver Turnbull', 'The merciless 1970s rivalry between Formula One rivals James Hunt and Niki Lauda.::Anonymous', 'Maverick teacher John Keating uses poetry to embolden his boarding school students to new heights of self-expression.', \"Harry, Ron, and Hermione search for Voldemort's remaining Horcruxes in their effort to destroy the Dark Lord as the final battle rages on at Hogwarts.\", 'In a future where mutants are nearly extinct, an elderly and weary Logan leads a quiet life. But when Laura, a mutant child pursued by scientists, comes to him for help, he must get her to safety.', 'The life, times and afflictions of the fifteenth-century Russian iconographer St. Andrei Rublev.::Karl Krejci', \"In 1431, Jeanne d'Arc is placed on trial on charges of heresy. The ecclesiastical jurists attempt to force Jeanne to recant her claims of holy visions.::Shannon Patrick Sullivan <shannon@mun.ca>\", 'A young boy, left without attention, delves into a life of petty crime.::Zaheer Qureshi', 'Paul Rusesabagina was a hotel manager who housed over a thousand Tutsi refugees during their struggle against the Hutu militia in Rwanda.::Bastian Lind', 'A woman is hired as a handmaiden to a Japanese heiress, but secretly she is involved in a plot to defraud her.::CJ Entertainment', \"A horrific car accident connects three stories, each involving characters dealing with loss, regret, and life's harsh realities, all in the name of love.::LVJeff\", 'The true story of how the Boston Globe uncovered the massive scandal of child molestation and cover-up within the local Catholic Archdiocese, shaking the entire Catholic Church to its core.', 'The story of six young Indians who assist an English woman to film a documentary on the freedom fighters from their past, and the events that lead them to relive the long-forgotten saga of freedom.::Kaushik S Kalmady', 'Warrior and pacifist Princess Nausicaä desperately struggles to prevent two warring nations from destroying themselves and their dying planet.::Garth Ellis', 'A small-time boxer gets a supremely rare chance to fight a heavy-weight champion in a bout in which he strives to go the distance for his self-respect.::Kenneth Chisholm', \"A self-conscious woman juggles adjusting to her new role as an aristocrat's wife and avoiding being intimidated by his first wife's spectral presence.::Noah Orent\", '24 hours in the lives of three young men in the French suburbs the day after a violent riot.', 'In order to power the city, monsters have to scare children so that they scream. However, the children are toxic to the monsters, and after a child gets through, 2 monsters realize things may not be what they think.::gamergcfan', 'A clash between Sultan and Shahid Khan leads to the expulsion of Khan from Wasseypur, and ignites a deadly blood feud spanning three generations.::Akshay', 'On an isolated island in Brittany at the end of the eighteenth century, a female painter is obliged to paint a wedding portrait of a young woman.::Dick van Riel', 'A spoiled heiress running away from her family is helped by a man who is actually a reporter in need of a story.', 'Two neighbors, a woman and a man, form a strong bond after both suspect extramarital activities of their spouses. However, they agree to keep their bond platonic so as not to commit similar wrongs.::Skip_4591', \"Nine years after Jesse and Celine first met, they encounter each other again on the French leg of Jesse's book tour.::Anonymous\", 'Travis Henderson, an aimless drifter who has been missing for four years, wanders out of the desert and must reconnect with society, himself, his life, and his family.::Anonymous', \"An aspiring author during the civil rights movement of the 1960s decides to write a book detailing the African American maids' point of view on the white families for which they work, and the hardships they go through on a daily basis.::Moviedude346\", 'A successful entrepreneur accused of murder and a witness preparation expert have less than three hours to come up with an impregnable defence.::Nick Riganas', \"While home sick in bed, a young boy's grandfather reads him the story of a farmboy-turned-pirate who encounters numerous obstacles, enemies and allies in his quest to be reunited with his true love.::Movie Guy\", 'Desperate measures are taken by a man who tries to save his family from the dark side of the law, after they commit an unexpected crime.', \"In 1984, a human soldier is tasked to stop an indestructible cyborg killing machine, both sent from 2029, from executing a young woman, whose unborn son is the key to humanity's future salvation.::vsuperkuns\", 'Two young Swedish children experience the many comedies and tragedies of their family, the Ekdahls.::Karl Krejci', \"A war-hardened general, egged on by his ambitious wife, works to fulfill a prophecy that he would become lord of Spider's Web Castle.::Kenneth Chisholm\", 'Three unemployed men look for answers to all their money problems - but when their opportunity arrives, will they know what to do with it?::Q. Leo Rahmen', 'A kindhearted street urchin and a power-hungry Grand Vizier vie for a magic lamp that has the power to make their deepest wishes come true.::Noah Orent', 'In 1992, war rages in Abkhazia, a breakaway region of Georgia. An Estonian man Ivo has decided to stay behind and harvest his crops of tangerines. In a bloody conflict at his door, a wounded man is left behind, and Ivo takes him in.::Anonymous', 'An alien on Earth loses the only device he can use to communicate with his spaceship. His innocent nature and child-like questions force the country to evaluate the impact of religion on its people.::Abhijat Joshi', \"A model discovers a retired judge is keen on invading people's privacy.::Murray Chapman <muzzle@imdb.com>\", 'A young man is ostracized by his classmates after he bullies a deaf girl to the point where she moves away. Years later, he sets off on a path for redemption.::ralo229']\n"
     ]
    }
   ],
   "source": [
    "plots = []\n",
    "for x in id:\n",
    "    plots.append(ia.get_movie(x).get('plot')[0])\n",
    "print(plots)"
   ]
  },
  {
   "cell_type": "code",
   "execution_count": 12,
   "metadata": {},
   "outputs": [
    {
     "data": {
      "text/html": [
       "<div>\n",
       "<style scoped>\n",
       "    .dataframe tbody tr th:only-of-type {\n",
       "        vertical-align: middle;\n",
       "    }\n",
       "\n",
       "    .dataframe tbody tr th {\n",
       "        vertical-align: top;\n",
       "    }\n",
       "\n",
       "    .dataframe thead th {\n",
       "        text-align: right;\n",
       "    }\n",
       "</style>\n",
       "<table border=\"1\" class=\"dataframe\">\n",
       "  <thead>\n",
       "    <tr style=\"text-align: right;\">\n",
       "      <th></th>\n",
       "      <th>movie name</th>\n",
       "      <th>movie id</th>\n",
       "      <th>movie rating</th>\n",
       "      <th>movie plot</th>\n",
       "    </tr>\n",
       "  </thead>\n",
       "  <tbody>\n",
       "    <tr>\n",
       "      <th>0</th>\n",
       "      <td>The Shawshank Redemption</td>\n",
       "      <td>0111161</td>\n",
       "      <td>9.3</td>\n",
       "      <td>Two imprisoned men bond over a number of years...</td>\n",
       "    </tr>\n",
       "    <tr>\n",
       "      <th>1</th>\n",
       "      <td>The Godfather</td>\n",
       "      <td>0068646</td>\n",
       "      <td>9.3</td>\n",
       "      <td>The aging patriarch of an organized crime dyna...</td>\n",
       "    </tr>\n",
       "    <tr>\n",
       "      <th>2</th>\n",
       "      <td>The Godfather: Part II</td>\n",
       "      <td>0071562</td>\n",
       "      <td>9.3</td>\n",
       "      <td>The early life and career of Vito Corleone in ...</td>\n",
       "    </tr>\n",
       "    <tr>\n",
       "      <th>3</th>\n",
       "      <td>The Dark Knight</td>\n",
       "      <td>0468569</td>\n",
       "      <td>9.3</td>\n",
       "      <td>When the menace known as the Joker wreaks havo...</td>\n",
       "    </tr>\n",
       "    <tr>\n",
       "      <th>4</th>\n",
       "      <td>12 Angry Men</td>\n",
       "      <td>0050083</td>\n",
       "      <td>9.3</td>\n",
       "      <td>A jury holdout attempts to prevent a miscarria...</td>\n",
       "    </tr>\n",
       "  </tbody>\n",
       "</table>\n",
       "</div>"
      ],
      "text/plain": [
       "                 movie name movie id  movie rating  \\\n",
       "0  The Shawshank Redemption  0111161           9.3   \n",
       "1             The Godfather  0068646           9.3   \n",
       "2    The Godfather: Part II  0071562           9.3   \n",
       "3           The Dark Knight  0468569           9.3   \n",
       "4              12 Angry Men  0050083           9.3   \n",
       "\n",
       "                                          movie plot  \n",
       "0  Two imprisoned men bond over a number of years...  \n",
       "1  The aging patriarch of an organized crime dyna...  \n",
       "2  The early life and career of Vito Corleone in ...  \n",
       "3  When the menace known as the Joker wreaks havo...  \n",
       "4  A jury holdout attempts to prevent a miscarria...  "
      ]
     },
     "execution_count": 12,
     "metadata": {},
     "output_type": "execute_result"
    }
   ],
   "source": [
    "new_dict = {'movie name':title, 'movie id':id, 'movie rating':rating, 'movie plot':plots}\n",
    "top_df =pd.DataFrame(new_dict)\n",
    "top_df.head()"
   ]
  },
  {
   "cell_type": "code",
   "execution_count": 14,
   "metadata": {},
   "outputs": [],
   "source": [
    "movie_df.to_csv(r'C:\\Users\\pacer\\Desktop\\movies_df.csv', index=False, header = True)"
   ]
  },
  {
   "cell_type": "code",
   "execution_count": 15,
   "metadata": {},
   "outputs": [],
   "source": [
    "top_df.to_csv(r'C:\\Users\\pacer\\Desktop\\top_movies.csv', index=False, header=True)"
   ]
  },
  {
   "cell_type": "code",
   "execution_count": null,
   "metadata": {},
   "outputs": [],
   "source": []
  }
 ],
 "metadata": {
  "kernelspec": {
   "display_name": "Python 3",
   "language": "python",
   "name": "python3"
  },
  "language_info": {
   "codemirror_mode": {
    "name": "ipython",
    "version": 3
   },
   "file_extension": ".py",
   "mimetype": "text/x-python",
   "name": "python",
   "nbconvert_exporter": "python",
   "pygments_lexer": "ipython3",
   "version": "3.7.6"
  }
 },
 "nbformat": 4,
 "nbformat_minor": 4
}
