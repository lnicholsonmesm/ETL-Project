{
 "cells": [
  {
   "cell_type": "code",
   "execution_count": 2,
   "metadata": {},
   "outputs": [],
   "source": [
    "import pandas as pd\n",
    "from imdb import IMDb"
   ]
  },
  {
   "cell_type": "code",
   "execution_count": 3,
   "metadata": {},
   "outputs": [],
   "source": [
    "#create instance of IMDb class\n",
    "ia = IMDb()"
   ]
  },
  {
   "cell_type": "code",
   "execution_count": 4,
   "metadata": {},
   "outputs": [],
   "source": [
    "top = ia.get_top250_movies()"
   ]
  },
  {
   "cell_type": "code",
   "execution_count": 13,
   "metadata": {},
   "outputs": [],
   "source": [
    "rating = []\n",
    "title = []\n",
    "id = []\n",
    "\n",
    "for i in range(250):\n",
    "    id.append(top[i].movieID)\n",
    "    rating.append(top[i]['rating'])\n",
    "    title.append(top[i]['title'])"
   ]
  },
  {
   "cell_type": "code",
   "execution_count": 6,
   "metadata": {
    "scrolled": true
   },
   "outputs": [
    {
     "name": "stdout",
     "output_type": "stream",
     "text": [
      "[9.2, 9.1, 9.0, 9.0, 8.9, 8.9, 8.9, 8.8, 8.8, 8.8, 8.8, 8.8, 8.7, 8.7, 8.7, 8.6, 8.6, 8.6, 8.6, 8.6, 8.6, 8.6, 8.6, 8.6, 8.6, 8.5, 8.5, 8.5, 8.5, 8.5, 8.5, 8.5, 8.5, 8.5, 8.5, 8.5, 8.5, 8.5, 8.5, 8.5, 8.5, 8.5, 8.5, 8.5, 8.5, 8.5, 8.5, 8.4, 8.4, 8.4, 8.4, 8.4, 8.4, 8.4, 8.4, 8.4, 8.4, 8.4, 8.4, 8.4, 8.4, 8.4, 8.4, 8.4, 8.4, 8.4, 8.4, 8.4, 8.4, 8.3, 8.3, 8.3, 8.3, 8.3, 8.3, 8.3, 8.3, 8.3, 8.3, 8.3, 8.3, 8.3, 8.3, 8.3, 8.3, 8.3, 8.3, 8.3, 8.3, 8.3, 8.3, 8.3, 8.3, 8.3, 8.3, 8.3, 8.3, 8.3, 8.3, 8.2, 8.2, 8.2, 8.2, 8.2, 8.2, 8.2, 8.2, 8.2, 8.2, 8.2, 8.2, 8.2, 8.2, 8.2, 8.2, 8.2, 8.2, 8.2, 8.2, 8.2, 8.2, 8.2, 8.2, 8.2, 8.2, 8.2, 8.2, 8.2, 8.2, 8.2, 8.2, 8.2, 8.2, 8.2, 8.2, 8.2, 8.2, 8.2, 8.2, 8.2, 8.2, 8.2, 8.2, 8.2, 8.1, 8.1, 8.1, 8.1, 8.1, 8.1, 8.1, 8.1, 8.1, 8.1, 8.1, 8.1, 8.1, 8.1, 8.1, 8.1, 8.1, 8.1, 8.1, 8.1, 8.1, 8.1, 8.1, 8.1, 8.1, 8.1, 8.1, 8.1, 8.1, 8.1, 8.1, 8.1, 8.1, 8.1, 8.1, 8.1, 8.1, 8.1, 8.1, 8.1, 8.1, 8.1, 8.1, 8.1, 8.1, 8.1, 8.1, 8.1, 8.1, 8.1, 8.1, 8.1, 8.1, 8.1, 8.1, 8.1, 8.1, 8.1, 8.1, 8.1, 8.1, 8.1, 8.1, 8.1, 8.1, 8.1, 8.1, 8.1, 8.1, 8.1, 8.1, 8.1, 8.0, 8.0, 8.0, 8.0, 8.0, 8.0, 8.0, 8.0, 8.0, 8.0, 8.0, 8.0, 8.0, 8.0, 8.0, 8.0, 8.0, 8.0, 8.0, 8.0, 8.0, 8.0, 8.0, 8.0, 8.0, 8.0, 8.0, 8.0, 8.0, 8.0, 8.0, 8.0, 8.0, 8.0]\n",
      "['The Shawshank Redemption', 'The Godfather', 'The Godfather: Part II', 'The Dark Knight', '12 Angry Men', \"Schindler's List\", 'The Lord of the Rings: The Return of the King', 'Pulp Fiction', 'The Good, the Bad and the Ugly', 'The Lord of the Rings: The Fellowship of the Ring', 'Fight Club', 'Forrest Gump', 'Inception', 'Star Wars: Episode V - The Empire Strikes Back', 'The Lord of the Rings: The Two Towers', 'The Matrix', 'Goodfellas', \"One Flew Over the Cuckoo's Nest\", 'Seven Samurai', 'Se7en', 'Life Is Beautiful', 'City of God', 'The Silence of the Lambs', \"It's a Wonderful Life\", 'Star Wars: Episode IV - A New Hope', 'Saving Private Ryan', 'Spirited Away', 'Parasite', 'The Green Mile', 'Interstellar', 'Léon: The Professional', 'The Usual Suspects', 'Harakiri', 'The Lion King', 'The Pianist', 'Back to the Future', 'American History X', 'Terminator 2: Judgment Day', 'Modern Times', 'Psycho', 'Gladiator', 'City Lights', 'The Departed', 'The Intouchables', 'Whiplash', 'The Prestige', 'Once Upon a Time in the West', 'Grave of the Fireflies', 'Casablanca', 'Rear Window', 'Cinema Paradiso', 'Alien', 'Apocalypse Now', 'Memento', 'Joker', 'Raiders of the Lost Ark', 'The Great Dictator', 'The Lives of Others', 'Django Unchained', 'Paths of Glory', 'The Shining', 'WALL·E', 'Avengers: Infinity War', 'Sunset Blvd.', 'Princess Mononoke', 'Spider-Man: Into the Spider-Verse', 'Dr. Strangelove or: How I Learned to Stop Worrying and Love the Bomb', 'Oldboy', 'Witness for the Prosecution', 'The Dark Knight Rises', 'Avengers: Endgame', 'Once Upon a Time in America', 'Aliens', 'Your Name.', 'Coco', 'American Beauty', 'Braveheart', 'Das Boot', '3 Idiots', 'Toy Story', 'High and Low', 'Like Stars on Earth', 'Amadeus', 'Star Wars: Episode VI - Return of the Jedi', 'Reservoir Dogs', 'Inglourious Basterds', 'Good Will Hunting', '1917', '2001: A Space Odyssey', 'Vertigo', 'Requiem for a Dream', 'Capernaum', 'M', 'Dangal', 'Anand', 'Eternal Sunshine of the Spotless Mind', 'Citizen Kane', 'The Hunt', 'Full Metal Jacket', 'Bicycle Thieves', 'North by Northwest', 'A Clockwork Orange', 'The Kid', 'Snatch', \"Singin' in the Rain\", 'Scarface', 'Taxi Driver', 'Amélie', 'Lawrence of Arabia', 'Toy Story 3', 'The Sting', 'Ikiru', 'Metropolis', 'A Separation', 'For a Few Dollars More', 'Double Indemnity', 'The Apartment', 'Incendies', 'To Kill a Mockingbird', 'Indiana Jones and the Last Crusade', 'Up', 'L.A. Confidential', 'Heat', 'Monty Python and the Holy Grail', 'Die Hard', 'Come and See', 'Rashomon', 'Yojimbo', 'Batman Begins', 'Green Book', 'Downfall', 'Children of Heaven', 'Unforgiven', 'Some Like It Hot', 'Ran', \"Howl's Moving Castle\", 'The Great Escape', 'A Beautiful Mind', 'All About Eve', 'Casino', \"Pan's Labyrinth\", 'The Wolf of Wall Street', 'The Secret in Their Eyes', 'My Neighbor Totoro', 'Lock, Stock and Two Smoking Barrels', 'Raging Bull', 'There Will Be Blood', 'The Treasure of the Sierra Madre', 'Judgment at Nuremberg', 'My Father and My Son', 'Three Billboards Outside Ebbing, Missouri', 'Dial M for Murder', 'The Gold Rush', 'Chinatown', 'V for Vendetta', 'No Country for Old Men', 'The Seventh Seal', 'Inside Out', 'Shutter Island', 'Warrior', 'The Elephant Man', 'Trainspotting', 'The Sixth Sense', 'The Thing', 'Jurassic Park', 'Gone with the Wind', 'Wild Strawberries', 'Room', 'Blade Runner', 'Finding Nemo', 'The Bridge on the River Kwai', 'The Truman Show', 'Stalker', 'Kill Bill: Vol. 1', 'Fargo', 'On the Waterfront', 'The Third Man', 'Gran Torino', 'Tokyo Story', 'The Deer Hunter', 'Memories of Murder', 'Wild Tales', 'Klaus', 'The Bandit', 'Andhadhun', 'Mary and Max', 'The Big Lebowski', 'In the Name of the Father', 'Gone Girl', 'Hacksaw Ridge', 'The Grand Budapest Hotel', 'Persona', 'Before Sunrise', 'To Be or Not to Be', 'Catch Me If You Can', 'Ford v Ferrari', 'The General', 'How to Train Your Dragon', 'Mr. Smith Goes to Washington', 'Sherlock Jr.', 'Prisoners', '12 Years a Slave', 'Mad Max: Fury Road', 'Barry Lyndon', 'Cool Hand Luke', 'Network', 'Stand by Me', 'The Wages of Fear', 'Million Dollar Baby', 'Into the Wild', \"Hachi: A Dog's Tale\", 'Ben-Hur', \"Monty Python's Life of Brian\", 'Platoon', 'Rush', 'Dead Poets Society', 'Harry Potter and the Deathly Hallows: Part 2', 'Logan', 'Andrei Rublev', 'The Passion of Joan of Arc', 'The 400 Blows', 'Hotel Rwanda', 'The Handmaiden', 'Amores Perros', 'Spotlight', 'Rang De Basanti', 'Nausicaä of the Valley of the Wind', 'Rocky', 'Rebecca', 'La Haine', 'Monsters, Inc.', 'Gangs of Wasseypur', 'Portrait of a Lady on Fire', 'It Happened One Night', 'In the Mood for Love', 'Before Sunset', 'Paris, Texas', 'The Help', 'The Invisible Guest', 'The Princess Bride', 'Drishyam', 'The Terminator', 'Hera Pheri', 'Fanny and Alexander', 'Throne of Blood', 'Aladdin', 'Tangerines', 'Three Colors: Red', 'PK', 'A Silent Voice: The Movie']\n",
      "['0111161', '0068646', '0071562', '0468569', '0050083', '0108052', '0167260', '0110912', '0060196', '0120737', '0137523', '0109830', '1375666', '0080684', '0167261', '0133093', '0099685', '0073486', '0047478', '0114369', '0118799', '0317248', '0102926', '0038650', '0076759', '0120815', '0245429', '6751668', '0120689', '0816692', '0110413', '0114814', '0056058', '0110357', '0253474', '0088763', '0120586', '0103064', '0027977', '0054215', '0172495', '0021749', '0407887', '1675434', '2582802', '0482571', '0064116', '0095327', '0034583', '0047396', '0095765', '0078748', '0078788', '0209144', '7286456', '0082971', '0032553', '0405094', '1853728', '0050825', '0081505', '0910970', '4154756', '0043014', '0119698', '4633694', '0057012', '0364569', '0051201', '1345836', '4154796', '0087843', '0090605', '5311514', '2380307', '0169547', '0112573', '0082096', '1187043', '0114709', '0057565', '0986264', '0086879', '0086190', '0105236', '0361748', '0119217', '8579674', '0062622', '0052357', '0180093', '8267604', '0022100', '5074352', '0066763', '0338013', '0033467', '2106476', '0093058', '0040522', '0053125', '0066921', '0012349', '0208092', '0045152', '0086250', '0075314', '0211915', '0056172', '0435761', '0070735', '0044741', '0017136', '1832382', '0059578', '0036775', '0053604', '1255953', '0056592', '0097576', '1049413', '0119488', '0113277', '0071853', '0095016', '0091251', '0042876', '0055630', '0372784', '6966692', '0363163', '0118849', '0105695', '0053291', '0089881', '0347149', '0057115', '0268978', '0042192', '0112641', '0457430', '0993846', '1305806', '0096283', '0120735', '0081398', '0469494', '0040897', '0055031', '0476735', '5027774', '0046912', '0015864', '0071315', '0434409', '0477348', '0050976', '2096673', '1130884', '1291584', '0080678', '0117951', '0167404', '0084787', '0107290', '0031381', '0050986', '3170832', '0083658', '0266543', '0050212', '0120382', '0079944', '0266697', '0116282', '0047296', '0041959', '1205489', '0046438', '0077416', '0353969', '3011894', '4729430', '0116231', '8108198', '0978762', '0118715', '0107207', '2267998', '2119532', '2278388', '0060827', '0112471', '0035446', '0264464', '1950186', '0017925', '0892769', '0031679', '0015324', '1392214', '2024544', '1392190', '0072684', '0061512', '0074958', '0092005', '0046268', '0405159', '0758758', '1028532', '0052618', '0079470', '0091763', '1979320', '0097165', '1201607', '3315342', '0060107', '0019254', '0053198', '0395169', '4016934', '0245712', '1895587', '0405508', '0087544', '0075148', '0032976', '0113247', '0198781', '1954470', '8613070', '0025316', '0118694', '0381681', '0087884', '1454029', '4857264', '0093779', '4430212', '0088247', '0242519', '0083922', '0050613', '0103639', '2991224', '0111495', '2338151', '5323662']\n"
     ]
    }
   ],
   "source": [
    "print(rating)\n",
    "print(title)\n",
    "print(id)"
   ]
  },
  {
   "cell_type": "code",
   "execution_count": 10,
   "metadata": {},
   "outputs": [
    {
     "data": {
      "text/html": [
       "<div>\n",
       "<style scoped>\n",
       "    .dataframe tbody tr th:only-of-type {\n",
       "        vertical-align: middle;\n",
       "    }\n",
       "\n",
       "    .dataframe tbody tr th {\n",
       "        vertical-align: top;\n",
       "    }\n",
       "\n",
       "    .dataframe thead th {\n",
       "        text-align: right;\n",
       "    }\n",
       "</style>\n",
       "<table border=\"1\" class=\"dataframe\">\n",
       "  <thead>\n",
       "    <tr style=\"text-align: right;\">\n",
       "      <th></th>\n",
       "      <th>name</th>\n",
       "      <th>movie id</th>\n",
       "      <th>movie rating</th>\n",
       "    </tr>\n",
       "  </thead>\n",
       "  <tbody>\n",
       "    <tr>\n",
       "      <th>0</th>\n",
       "      <td>The Shawshank Redemption</td>\n",
       "      <td>0111161</td>\n",
       "      <td>9.2</td>\n",
       "    </tr>\n",
       "    <tr>\n",
       "      <th>1</th>\n",
       "      <td>The Godfather</td>\n",
       "      <td>0068646</td>\n",
       "      <td>9.1</td>\n",
       "    </tr>\n",
       "    <tr>\n",
       "      <th>2</th>\n",
       "      <td>The Godfather: Part II</td>\n",
       "      <td>0071562</td>\n",
       "      <td>9.0</td>\n",
       "    </tr>\n",
       "    <tr>\n",
       "      <th>3</th>\n",
       "      <td>The Dark Knight</td>\n",
       "      <td>0468569</td>\n",
       "      <td>9.0</td>\n",
       "    </tr>\n",
       "    <tr>\n",
       "      <th>4</th>\n",
       "      <td>12 Angry Men</td>\n",
       "      <td>0050083</td>\n",
       "      <td>8.9</td>\n",
       "    </tr>\n",
       "    <tr>\n",
       "      <th>...</th>\n",
       "      <td>...</td>\n",
       "      <td>...</td>\n",
       "      <td>...</td>\n",
       "    </tr>\n",
       "    <tr>\n",
       "      <th>245</th>\n",
       "      <td>Aladdin</td>\n",
       "      <td>0103639</td>\n",
       "      <td>8.0</td>\n",
       "    </tr>\n",
       "    <tr>\n",
       "      <th>246</th>\n",
       "      <td>Tangerines</td>\n",
       "      <td>2991224</td>\n",
       "      <td>8.0</td>\n",
       "    </tr>\n",
       "    <tr>\n",
       "      <th>247</th>\n",
       "      <td>Three Colors: Red</td>\n",
       "      <td>0111495</td>\n",
       "      <td>8.0</td>\n",
       "    </tr>\n",
       "    <tr>\n",
       "      <th>248</th>\n",
       "      <td>PK</td>\n",
       "      <td>2338151</td>\n",
       "      <td>8.0</td>\n",
       "    </tr>\n",
       "    <tr>\n",
       "      <th>249</th>\n",
       "      <td>A Silent Voice: The Movie</td>\n",
       "      <td>5323662</td>\n",
       "      <td>8.0</td>\n",
       "    </tr>\n",
       "  </tbody>\n",
       "</table>\n",
       "<p>250 rows × 3 columns</p>\n",
       "</div>"
      ],
      "text/plain": [
       "                          name movie id  movie rating\n",
       "0     The Shawshank Redemption  0111161           9.2\n",
       "1                The Godfather  0068646           9.1\n",
       "2       The Godfather: Part II  0071562           9.0\n",
       "3              The Dark Knight  0468569           9.0\n",
       "4                 12 Angry Men  0050083           8.9\n",
       "..                         ...      ...           ...\n",
       "245                    Aladdin  0103639           8.0\n",
       "246                 Tangerines  2991224           8.0\n",
       "247          Three Colors: Red  0111495           8.0\n",
       "248                         PK  2338151           8.0\n",
       "249  A Silent Voice: The Movie  5323662           8.0\n",
       "\n",
       "[250 rows x 3 columns]"
      ]
     },
     "execution_count": 10,
     "metadata": {},
     "output_type": "execute_result"
    }
   ],
   "source": [
    "dict = {'name':title, 'movie id':id, 'movie rating':rating}\n",
    "movie_df = pd.DataFrame(dict)\n",
    "movie_df"
   ]
  },
  {
   "cell_type": "code",
   "execution_count": 5,
   "metadata": {
    "scrolled": true
   },
   "outputs": [
    {
     "data": {
      "text/plain": [
       "{'main': ['cast',\n",
       "  'genres',\n",
       "  'runtimes',\n",
       "  'countries',\n",
       "  'country codes',\n",
       "  'language codes',\n",
       "  'color info',\n",
       "  'aspect ratio',\n",
       "  'sound mix',\n",
       "  'box office',\n",
       "  'certificates',\n",
       "  'original air date',\n",
       "  'rating',\n",
       "  'votes',\n",
       "  'cover url',\n",
       "  'plot outline',\n",
       "  'languages',\n",
       "  'title',\n",
       "  'year',\n",
       "  'kind',\n",
       "  'directors',\n",
       "  'writers',\n",
       "  'producers',\n",
       "  'composers',\n",
       "  'cinematographers',\n",
       "  'editors',\n",
       "  'editorial department',\n",
       "  'casting directors',\n",
       "  'production designers',\n",
       "  'art directors',\n",
       "  'set decorators',\n",
       "  'costume designers',\n",
       "  'make up department',\n",
       "  'production managers',\n",
       "  'assistant directors',\n",
       "  'art department',\n",
       "  'sound department',\n",
       "  'special effects',\n",
       "  'visual effects',\n",
       "  'stunts',\n",
       "  'camera department',\n",
       "  'casting department',\n",
       "  'costume departmen',\n",
       "  'location management',\n",
       "  'music department',\n",
       "  'script department',\n",
       "  'transportation department',\n",
       "  'miscellaneous',\n",
       "  'thanks',\n",
       "  'akas',\n",
       "  'writer',\n",
       "  'director',\n",
       "  'top 250 rank',\n",
       "  'production companies',\n",
       "  'distributors',\n",
       "  'special effects companies',\n",
       "  'other companies'],\n",
       " 'plot': ['plot', 'synopsis']}"
      ]
     },
     "execution_count": 5,
     "metadata": {},
     "output_type": "execute_result"
    }
   ],
   "source": [
    "movie = ia.get_movie('0111161')\n",
    "movie.infoset2keys"
   ]
  },
  {
   "cell_type": "code",
   "execution_count": 20,
   "metadata": {},
   "outputs": [
    {
     "data": {
      "text/plain": [
       "{'taglines': ['taglines'], 'plot': ['plot', 'synopsis']}"
      ]
     },
     "execution_count": 20,
     "metadata": {},
     "output_type": "execute_result"
    }
   ],
   "source": [
    "movie_plot = ia.get_movie('0111161', info=['taglines', 'plot'])\n",
    "movie_plot.infoset2keys"
   ]
  },
  {
   "cell_type": "code",
   "execution_count": 21,
   "metadata": {},
   "outputs": [
    {
     "data": {
      "text/plain": [
       "'Two imprisoned men bond over a number of years, finding solace and eventual redemption through acts of common decency.::Carl Schultz'"
      ]
     },
     "execution_count": 21,
     "metadata": {},
     "output_type": "execute_result"
    }
   ],
   "source": [
    "movie_plot.get('plot')[0]"
   ]
  },
  {
   "cell_type": "code",
   "execution_count": 25,
   "metadata": {},
   "outputs": [],
   "source": [
    "range = [0, 250]\n",
    "movie = ia.get_movie([])\n",
    "plot = movie['plot'][]"
   ]
  },
  {
   "cell_type": "code",
   "execution_count": 22,
   "metadata": {},
   "outputs": [
    {
     "ename": "AttributeError",
     "evalue": "'Movie' object has no attribute 'movie_plot'",
     "output_type": "error",
     "traceback": [
      "\u001b[1;31m---------------------------------------------------------------------------\u001b[0m",
      "\u001b[1;31mAttributeError\u001b[0m                            Traceback (most recent call last)",
      "\u001b[1;32m<ipython-input-22-a8fb11a00489>\u001b[0m in \u001b[0;36m<module>\u001b[1;34m\u001b[0m\n\u001b[0;32m      3\u001b[0m \u001b[1;32mfor\u001b[0m \u001b[0mm\u001b[0m \u001b[1;32min\u001b[0m \u001b[0mrange\u001b[0m\u001b[1;33m(\u001b[0m\u001b[1;36m250\u001b[0m\u001b[1;33m)\u001b[0m\u001b[1;33m:\u001b[0m\u001b[1;33m\u001b[0m\u001b[1;33m\u001b[0m\u001b[0m\n\u001b[0;32m      4\u001b[0m     \u001b[0mid\u001b[0m\u001b[1;33m.\u001b[0m\u001b[0mappend\u001b[0m\u001b[1;33m(\u001b[0m\u001b[0mtop\u001b[0m\u001b[1;33m[\u001b[0m\u001b[0mi\u001b[0m\u001b[1;33m]\u001b[0m\u001b[1;33m.\u001b[0m\u001b[0mmovieID\u001b[0m\u001b[1;33m)\u001b[0m\u001b[1;33m\u001b[0m\u001b[1;33m\u001b[0m\u001b[0m\n\u001b[1;32m----> 5\u001b[1;33m     \u001b[0mplot\u001b[0m\u001b[1;33m.\u001b[0m\u001b[0mappend\u001b[0m\u001b[1;33m(\u001b[0m\u001b[0mtop\u001b[0m\u001b[1;33m[\u001b[0m\u001b[0mi\u001b[0m\u001b[1;33m]\u001b[0m\u001b[1;33m.\u001b[0m\u001b[0mmovie_plot\u001b[0m\u001b[1;33m)\u001b[0m\u001b[1;33m\u001b[0m\u001b[1;33m\u001b[0m\u001b[0m\n\u001b[0m",
      "\u001b[1;31mAttributeError\u001b[0m: 'Movie' object has no attribute 'movie_plot'"
     ]
    }
   ],
   "source": [
    "plot = []\n",
    "\n",
    "for m in range(250):\n",
    "    id.append(top[i].movieID)\n",
    "    plot.append(top[i].movie_plot)"
   ]
  },
  {
   "cell_type": "code",
   "execution_count": 8,
   "metadata": {},
   "outputs": [
    {
     "name": "stdout",
     "output_type": "stream",
     "text": [
      "The Shawshank Redemption\n",
      "9.3\n"
     ]
    }
   ],
   "source": [
    "code = '0111161'\n",
    "series = ia.get_movie(code)\n",
    "rating = series.data['rating']\n",
    "print(series)\n",
    "print(rating)"
   ]
  },
  {
   "cell_type": "code",
   "execution_count": null,
   "metadata": {},
   "outputs": [],
   "source": []
  },
  {
   "cell_type": "code",
   "execution_count": null,
   "metadata": {},
   "outputs": [],
   "source": []
  },
  {
   "cell_type": "code",
   "execution_count": 87,
   "metadata": {},
   "outputs": [
    {
     "data": {
      "text/plain": [
       "['The aging patriarch of an organized crime dynasty transfers control of his clandestine empire to his reluctant son.::Carl Schultz',\n",
       " 'The Godfather \"Don\" Vito Corleone is the head of the Corleone mafia family in New York. He is at the event of his daughter\\'s wedding. Michael, Vito\\'s youngest son and a decorated WW II Marine is also present at the wedding. Michael seems to be uninterested in being a part of the family business. Vito is a powerful man, and is kind to all those who give him respect but is ruthless against those who do not. But when a powerful and treacherous rival wants to sell drugs and needs the Don\\'s influence for the same, Vito refuses to do it. What follows is a clash between Vito\\'s fading old values and the new ways which may cause Michael to do the thing he was most reluctant in doing and wage a mob war against all the other mafia families which could tear the Corleone family apart.::srijanarora-152-448595',\n",
       " 'Michael, the young and idealistic son of Vito Corleone, the head of the most powerful Mafia clan in New York, returns home as a war hero and is determined to live his own life. But tragic circumstances make him face the legacy of his family.::fiveisforsecret',\n",
       " 'In New York City, 1945, Michael Corleone, a decorated World War II veteran and son of Vito Corleone, the Don of the Corleone crime family, is determined to live a life with his greatest love, Kay Adams, and stay out of the family business. But with the health and status of his father slowly deteriorating, Michael begins to realize that some burdens cannot be avoided, and the inevitability of his fate as the patriarch of the Corleone crime family.::goddangwatir',\n",
       " 'The story begins as \"Don\" Vito Corleone, the head of a New York Mafia \"family\", oversees his daughter\\'s wedding with his wife Carmela. His beloved son Michael has just come home from the war, but does not intend to become part of his father\\'s business. Through Michael\\'s life the nature of the family business becomes clear. The business of the family is just like the head of the family, kind and benevolent to those who give respect, but given to ruthless violence whenever anything stands against the good of the family. Don Vito lives his life in the way of the old country, but times are changing and some don\\'t want to follow the old ways and look out for community and \"family\". An up and coming rival of the Corleone family wants to start selling drugs in New York, and needs the Don\\'s influence to further his plan. The clash of the Don\\'s fading old world values and the new ways will demand a terrible price, especially from Michael, all for the sake of the family.::Charlie Ness',\n",
       " \"Vito Corleone is the aging don (head) of the Corleone Mafia Family. His youngest son Michael has returned from WWII just in time to see the wedding of Connie Corleone (Michael's sister) to Carlo Rizzi. All of Michael's family is involved with the Mafia, but Michael just wants to live a normal life. Drug dealer Virgil Sollozzo is looking for Mafia families to offer him protection in exchange for a profit of the drug money. He approaches Don Corleone about it, but, much against the advice of the Don's lawyer Tom Hagen, the Don is morally against the use of drugs, and turns down the offer. This does not please Sollozzo, who has the Don shot down by some of his hit men. The Don barely survives, which leads his son Michael to begin a violent mob war against Sollozzo and tears the Corleone family apart.::TheElfstone\"]"
      ]
     },
     "execution_count": 87,
     "metadata": {},
     "output_type": "execute_result"
    }
   ],
   "source": []
  },
  {
   "cell_type": "code",
   "execution_count": null,
   "metadata": {},
   "outputs": [],
   "source": []
  }
 ],
 "metadata": {
  "kernelspec": {
   "display_name": "Python 3",
   "language": "python",
   "name": "python3"
  },
  "language_info": {
   "codemirror_mode": {
    "name": "ipython",
    "version": 3
   },
   "file_extension": ".py",
   "mimetype": "text/x-python",
   "name": "python",
   "nbconvert_exporter": "python",
   "pygments_lexer": "ipython3",
   "version": "3.7.6"
  }
 },
 "nbformat": 4,
 "nbformat_minor": 4
}
